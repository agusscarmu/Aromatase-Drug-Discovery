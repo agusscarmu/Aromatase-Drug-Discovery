{
 "cells": [
  {
   "cell_type": "markdown",
   "source": [
    "\n",
    "# PART 1\n",
    "---"
   ],
   "metadata": {
    "collapsed": false
   },
   "id": "9a1206278816fecb"
  },
  {
   "cell_type": "code",
   "execution_count": 1,
   "id": "initial_id",
   "metadata": {
    "collapsed": true,
    "ExecuteTime": {
     "end_time": "2024-03-05T22:22:12.209460Z",
     "start_time": "2024-03-05T22:22:05.951869Z"
    }
   },
   "outputs": [
    {
     "name": "stdout",
     "output_type": "stream",
     "text": [
      "Collecting chembl_webresource_client\r\n",
      "  Obtaining dependency information for chembl_webresource_client from https://files.pythonhosted.org/packages/c2/7a/81dd5eb6d6166f733c02aeff6eff207ee3cd077872e6a20da925044c3d59/chembl_webresource_client-0.10.9-py3-none-any.whl.metadata\r\n",
      "  Downloading chembl_webresource_client-0.10.9-py3-none-any.whl.metadata (1.4 kB)\r\n",
      "Requirement already satisfied: urllib3 in /Users/agustincarmusciano/anaconda3/lib/python3.11/site-packages (from chembl_webresource_client) (1.26.16)\r\n",
      "Requirement already satisfied: requests>=2.18.4 in /Users/agustincarmusciano/anaconda3/lib/python3.11/site-packages (from chembl_webresource_client) (2.31.0)\r\n",
      "Collecting requests-cache~=1.2 (from chembl_webresource_client)\r\n",
      "  Obtaining dependency information for requests-cache~=1.2 from https://files.pythonhosted.org/packages/cc/23/863f517b5d74e297e669c88093ecd92e13a06c488e90acbd5507819049ac/requests_cache-1.2.0-py3-none-any.whl.metadata\r\n",
      "  Downloading requests_cache-1.2.0-py3-none-any.whl.metadata (9.9 kB)\r\n",
      "Collecting easydict (from chembl_webresource_client)\r\n",
      "  Obtaining dependency information for easydict from https://files.pythonhosted.org/packages/05/ec/fa6963f1198172c2b75c9ab6ecefb3045991f92f75f5eb41b6621b198123/easydict-1.13-py3-none-any.whl.metadata\r\n",
      "  Downloading easydict-1.13-py3-none-any.whl.metadata (4.2 kB)\r\n",
      "Requirement already satisfied: charset-normalizer<4,>=2 in /Users/agustincarmusciano/anaconda3/lib/python3.11/site-packages (from requests>=2.18.4->chembl_webresource_client) (2.0.4)\r\n",
      "Requirement already satisfied: idna<4,>=2.5 in /Users/agustincarmusciano/anaconda3/lib/python3.11/site-packages (from requests>=2.18.4->chembl_webresource_client) (3.4)\r\n",
      "Requirement already satisfied: certifi>=2017.4.17 in /Users/agustincarmusciano/anaconda3/lib/python3.11/site-packages (from requests>=2.18.4->chembl_webresource_client) (2023.7.22)\r\n",
      "Requirement already satisfied: attrs>=21.2 in /Users/agustincarmusciano/anaconda3/lib/python3.11/site-packages (from requests-cache~=1.2->chembl_webresource_client) (22.1.0)\r\n",
      "Collecting cattrs>=22.2 (from requests-cache~=1.2->chembl_webresource_client)\r\n",
      "  Obtaining dependency information for cattrs>=22.2 from https://files.pythonhosted.org/packages/b3/0d/cd4a4071c7f38385dc5ba91286723b4d1090b87815db48216212c6c6c30e/cattrs-23.2.3-py3-none-any.whl.metadata\r\n",
      "  Downloading cattrs-23.2.3-py3-none-any.whl.metadata (10 kB)\r\n",
      "Requirement already satisfied: platformdirs>=2.5 in /Users/agustincarmusciano/anaconda3/lib/python3.11/site-packages (from requests-cache~=1.2->chembl_webresource_client) (3.10.0)\r\n",
      "Collecting url-normalize>=1.4 (from requests-cache~=1.2->chembl_webresource_client)\r\n",
      "  Obtaining dependency information for url-normalize>=1.4 from https://files.pythonhosted.org/packages/65/1c/6c6f408be78692fc850006a2b6dea37c2b8592892534e09996e401efc74b/url_normalize-1.4.3-py2.py3-none-any.whl.metadata\r\n",
      "  Downloading url_normalize-1.4.3-py2.py3-none-any.whl.metadata (3.1 kB)\r\n",
      "Collecting attrs>=21.2 (from requests-cache~=1.2->chembl_webresource_client)\r\n",
      "  Obtaining dependency information for attrs>=21.2 from https://files.pythonhosted.org/packages/e0/44/827b2a91a5816512fcaf3cc4ebc465ccd5d598c45cefa6703fcf4a79018f/attrs-23.2.0-py3-none-any.whl.metadata\r\n",
      "  Downloading attrs-23.2.0-py3-none-any.whl.metadata (9.5 kB)\r\n",
      "Requirement already satisfied: six in /Users/agustincarmusciano/anaconda3/lib/python3.11/site-packages (from url-normalize>=1.4->requests-cache~=1.2->chembl_webresource_client) (1.16.0)\r\n",
      "Downloading chembl_webresource_client-0.10.9-py3-none-any.whl (55 kB)\r\n",
      "\u001B[2K   \u001B[90m━━━━━━━━━━━━━━━━━━━━━━━━━━━━━━━━━━━━━━━━\u001B[0m \u001B[32m55.2/55.2 kB\u001B[0m \u001B[31m1.4 MB/s\u001B[0m eta \u001B[36m0:00:00\u001B[0m\r\n",
      "\u001B[?25hDownloading requests_cache-1.2.0-py3-none-any.whl (61 kB)\r\n",
      "\u001B[2K   \u001B[90m━━━━━━━━━━━━━━━━━━━━━━━━━━━━━━━━━━━━━━━━\u001B[0m \u001B[32m61.4/61.4 kB\u001B[0m \u001B[31m4.5 MB/s\u001B[0m eta \u001B[36m0:00:00\u001B[0m\r\n",
      "\u001B[?25hDownloading easydict-1.13-py3-none-any.whl (6.8 kB)\r\n",
      "Downloading cattrs-23.2.3-py3-none-any.whl (57 kB)\r\n",
      "\u001B[2K   \u001B[90m━━━━━━━━━━━━━━━━━━━━━━━━━━━━━━━━━━━━━━━━\u001B[0m \u001B[32m57.5/57.5 kB\u001B[0m \u001B[31m5.9 MB/s\u001B[0m eta \u001B[36m0:00:00\u001B[0m\r\n",
      "\u001B[?25hDownloading attrs-23.2.0-py3-none-any.whl (60 kB)\r\n",
      "\u001B[2K   \u001B[90m━━━━━━━━━━━━━━━━━━━━━━━━━━━━━━━━━━━━━━━━\u001B[0m \u001B[32m60.8/60.8 kB\u001B[0m \u001B[31m5.9 MB/s\u001B[0m eta \u001B[36m0:00:00\u001B[0m\r\n",
      "\u001B[?25hDownloading url_normalize-1.4.3-py2.py3-none-any.whl (6.8 kB)\r\n",
      "Installing collected packages: easydict, url-normalize, attrs, cattrs, requests-cache, chembl_webresource_client\r\n",
      "  Attempting uninstall: attrs\r\n",
      "    Found existing installation: attrs 22.1.0\r\n",
      "    Uninstalling attrs-22.1.0:\r\n",
      "      Successfully uninstalled attrs-22.1.0\r\n",
      "Successfully installed attrs-23.2.0 cattrs-23.2.3 chembl_webresource_client-0.10.9 easydict-1.13 requests-cache-1.2.0 url-normalize-1.4.3\r\n"
     ]
    }
   ],
   "source": [
    "!pip install chembl_webresource_client"
   ]
  },
  {
   "cell_type": "code",
   "execution_count": 8,
   "outputs": [
    {
     "name": "stdout",
     "output_type": "stream",
     "text": [
      "Requirement already satisfied: chembl-webresource-client in /Users/agustincarmusciano/anaconda3/lib/python3.11/site-packages (0.10.9)\r\n",
      "Requirement already satisfied: urllib3 in /Users/agustincarmusciano/anaconda3/lib/python3.11/site-packages (from chembl-webresource-client) (1.26.16)\r\n",
      "Requirement already satisfied: requests>=2.18.4 in /Users/agustincarmusciano/anaconda3/lib/python3.11/site-packages (from chembl-webresource-client) (2.31.0)\r\n",
      "Requirement already satisfied: requests-cache~=1.2 in /Users/agustincarmusciano/anaconda3/lib/python3.11/site-packages (from chembl-webresource-client) (1.2.0)\r\n",
      "Requirement already satisfied: easydict in /Users/agustincarmusciano/anaconda3/lib/python3.11/site-packages (from chembl-webresource-client) (1.13)\r\n",
      "Requirement already satisfied: charset-normalizer<4,>=2 in /Users/agustincarmusciano/anaconda3/lib/python3.11/site-packages (from requests>=2.18.4->chembl-webresource-client) (2.0.4)\r\n",
      "Requirement already satisfied: idna<4,>=2.5 in /Users/agustincarmusciano/anaconda3/lib/python3.11/site-packages (from requests>=2.18.4->chembl-webresource-client) (3.4)\r\n",
      "Requirement already satisfied: certifi>=2017.4.17 in /Users/agustincarmusciano/anaconda3/lib/python3.11/site-packages (from requests>=2.18.4->chembl-webresource-client) (2023.7.22)\r\n",
      "Requirement already satisfied: attrs>=21.2 in /Users/agustincarmusciano/anaconda3/lib/python3.11/site-packages (from requests-cache~=1.2->chembl-webresource-client) (23.2.0)\r\n",
      "Requirement already satisfied: cattrs>=22.2 in /Users/agustincarmusciano/anaconda3/lib/python3.11/site-packages (from requests-cache~=1.2->chembl-webresource-client) (23.2.3)\r\n",
      "Requirement already satisfied: platformdirs>=2.5 in /Users/agustincarmusciano/anaconda3/lib/python3.11/site-packages (from requests-cache~=1.2->chembl-webresource-client) (3.10.0)\r\n",
      "Requirement already satisfied: url-normalize>=1.4 in /Users/agustincarmusciano/anaconda3/lib/python3.11/site-packages (from requests-cache~=1.2->chembl-webresource-client) (1.4.3)\r\n",
      "Requirement already satisfied: six in /Users/agustincarmusciano/anaconda3/lib/python3.11/site-packages (from url-normalize>=1.4->requests-cache~=1.2->chembl-webresource-client) (1.16.0)\r\n"
     ]
    }
   ],
   "source": [
    "!pip install --upgrade chembl-webresource-client"
   ],
   "metadata": {
    "collapsed": false,
    "ExecuteTime": {
     "end_time": "2024-03-05T22:26:22.866358Z",
     "start_time": "2024-03-05T22:26:20.249043Z"
    }
   },
   "id": "779ebe8db49bcbeb"
  },
  {
   "cell_type": "code",
   "execution_count": 13,
   "outputs": [],
   "source": [
    "# Import libraries\n",
    "import pandas as pd\n",
    "from chembl_webresource_client.new_client import new_client"
   ],
   "metadata": {
    "collapsed": false,
    "ExecuteTime": {
     "end_time": "2024-03-05T22:30:46.994908Z",
     "start_time": "2024-03-05T22:30:46.992815Z"
    }
   },
   "id": "8c69fdda6f35f8b9"
  },
  {
   "cell_type": "code",
   "execution_count": 50,
   "outputs": [
    {
     "data": {
      "text/plain": "                                    cross_references           organism  \\\n0  [{'xref_id': 'P11511', 'xref_name': None, 'xre...       Homo sapiens   \n1  [{'xref_id': 'P22443', 'xref_name': None, 'xre...  Rattus norvegicus   \n\n              pref_name  score  species_group_flag target_chembl_id  \\\n0  Cytochrome P450 19A1   20.0               False       CHEMBL1978   \n1  Cytochrome P450 19A1   20.0               False       CHEMBL3859   \n\n                                   target_components     target_type  tax_id  \n0  [{'accession': 'P11511', 'component_descriptio...  SINGLE PROTEIN    9606  \n1  [{'accession': 'P22443', 'component_descriptio...  SINGLE PROTEIN   10116  ",
      "text/html": "<div>\n<style scoped>\n    .dataframe tbody tr th:only-of-type {\n        vertical-align: middle;\n    }\n\n    .dataframe tbody tr th {\n        vertical-align: top;\n    }\n\n    .dataframe thead th {\n        text-align: right;\n    }\n</style>\n<table border=\"1\" class=\"dataframe\">\n  <thead>\n    <tr style=\"text-align: right;\">\n      <th></th>\n      <th>cross_references</th>\n      <th>organism</th>\n      <th>pref_name</th>\n      <th>score</th>\n      <th>species_group_flag</th>\n      <th>target_chembl_id</th>\n      <th>target_components</th>\n      <th>target_type</th>\n      <th>tax_id</th>\n    </tr>\n  </thead>\n  <tbody>\n    <tr>\n      <th>0</th>\n      <td>[{'xref_id': 'P11511', 'xref_name': None, 'xre...</td>\n      <td>Homo sapiens</td>\n      <td>Cytochrome P450 19A1</td>\n      <td>20.0</td>\n      <td>False</td>\n      <td>CHEMBL1978</td>\n      <td>[{'accession': 'P11511', 'component_descriptio...</td>\n      <td>SINGLE PROTEIN</td>\n      <td>9606</td>\n    </tr>\n    <tr>\n      <th>1</th>\n      <td>[{'xref_id': 'P22443', 'xref_name': None, 'xre...</td>\n      <td>Rattus norvegicus</td>\n      <td>Cytochrome P450 19A1</td>\n      <td>20.0</td>\n      <td>False</td>\n      <td>CHEMBL3859</td>\n      <td>[{'accession': 'P22443', 'component_descriptio...</td>\n      <td>SINGLE PROTEIN</td>\n      <td>10116</td>\n    </tr>\n  </tbody>\n</table>\n</div>"
     },
     "execution_count": 50,
     "metadata": {},
     "output_type": "execute_result"
    }
   ],
   "source": [
    "target = new_client.target\n",
    "target_query = target.search('aromatase')\n",
    "targets = pd.DataFrame.from_dict(target_query)\n",
    "targets"
   ],
   "metadata": {
    "collapsed": false,
    "ExecuteTime": {
     "end_time": "2024-03-06T00:55:00.776329Z",
     "start_time": "2024-03-06T00:55:00.399890Z"
    }
   },
   "id": "21bc9ca4a6726f65"
  },
  {
   "cell_type": "code",
   "execution_count": 51,
   "outputs": [],
   "source": [
    "selected_target = targets.target_chembl_id[0]"
   ],
   "metadata": {
    "collapsed": false,
    "ExecuteTime": {
     "end_time": "2024-03-06T00:55:02.098922Z",
     "start_time": "2024-03-06T00:55:02.093453Z"
    }
   },
   "id": "a414557abf781d78"
  },
  {
   "cell_type": "code",
   "execution_count": 52,
   "outputs": [
    {
     "data": {
      "text/plain": "'CHEMBL1978'"
     },
     "execution_count": 52,
     "metadata": {},
     "output_type": "execute_result"
    }
   ],
   "source": [
    "selected_target"
   ],
   "metadata": {
    "collapsed": false,
    "ExecuteTime": {
     "end_time": "2024-03-06T00:55:03.700163Z",
     "start_time": "2024-03-06T00:55:03.687436Z"
    }
   },
   "id": "4f29d81dabdb7121"
  },
  {
   "cell_type": "code",
   "execution_count": 53,
   "outputs": [],
   "source": [
    "activity = new_client.activity\n",
    "res = activity.filter(target_chembl_id = selected_target).filter(standard_type = 'IC50')"
   ],
   "metadata": {
    "collapsed": false,
    "ExecuteTime": {
     "end_time": "2024-03-06T00:55:04.771696Z",
     "start_time": "2024-03-06T00:55:04.761002Z"
    }
   },
   "id": "dc36e422fb6304f4"
  },
  {
   "cell_type": "code",
   "execution_count": 54,
   "outputs": [
    {
     "data": {
      "text/plain": "[{'action_type': None, 'activity_comment': None, 'activity_id': 82585, 'activity_properties': [], 'assay_chembl_id': 'CHEMBL666794', 'assay_description': 'Inhibition of Cytochrome P450 19A1', 'assay_type': 'B', 'assay_variant_accession': None, 'assay_variant_mutation': None, 'bao_endpoint': 'BAO_0000190', 'bao_format': 'BAO_0000357', 'bao_label': 'single protein format', 'canonical_smiles': 'CC12CCC(O)CC1=CCC1C2CCC2(C)C(CC3CN3)CCC12', 'data_validity_comment': None, 'data_validity_description': None, 'document_chembl_id': 'CHEMBL1133116', 'document_journal': 'J Med Chem', 'document_year': 2000, 'ligand_efficiency': {'bei': '15.62', 'le': '0.29', 'lle': '0.86', 'sei': '12.21'}, 'molecule_chembl_id': 'CHEMBL341591', 'molecule_pref_name': None, 'parent_molecule_chembl_id': 'CHEMBL341591', 'pchembl_value': '5.15', 'potential_duplicate': 0, 'qudt_units': 'http://www.openphacts.org/units/Nanomolar', 'record_id': 267172, 'relation': '=', 'src_id': 1, 'standard_flag': 1, 'standard_relation': '=', 'standard_text_value': None, 'standard_type': 'IC50', 'standard_units': 'nM', 'standard_upper_value': None, 'standard_value': '7100.0', 'target_chembl_id': 'CHEMBL1978', 'target_organism': 'Homo sapiens', 'target_pref_name': 'Cytochrome P450 19A1', 'target_tax_id': '9606', 'text_value': None, 'toid': None, 'type': 'IC50', 'units': 'uM', 'uo_units': 'UO_0000065', 'upper_value': None, 'value': '7.1'}, {'action_type': None, 'activity_comment': None, 'activity_id': 94540, 'activity_properties': [], 'assay_chembl_id': 'CHEMBL666794', 'assay_description': 'Inhibition of Cytochrome P450 19A1', 'assay_type': 'B', 'assay_variant_accession': None, 'assay_variant_mutation': None, 'bao_endpoint': 'BAO_0000190', 'bao_format': 'BAO_0000357', 'bao_label': 'single protein format', 'canonical_smiles': 'C[C@]12CC[C@H]3[C@@H](CC=C4C[C@@H](O)CC[C@@]43C)[C@@H]1CC[C@@H]2[C@H]1CN1', 'data_validity_comment': None, 'data_validity_description': None, 'document_chembl_id': 'CHEMBL1133116', 'document_journal': 'J Med Chem', 'document_year': 2000, 'ligand_efficiency': None, 'molecule_chembl_id': 'CHEMBL2111947', 'molecule_pref_name': None, 'parent_molecule_chembl_id': 'CHEMBL2111947', 'pchembl_value': None, 'potential_duplicate': 0, 'qudt_units': 'http://www.openphacts.org/units/Nanomolar', 'record_id': 267163, 'relation': '>', 'src_id': 1, 'standard_flag': 1, 'standard_relation': '>', 'standard_text_value': None, 'standard_type': 'IC50', 'standard_units': 'nM', 'standard_upper_value': None, 'standard_value': '50000.0', 'target_chembl_id': 'CHEMBL1978', 'target_organism': 'Homo sapiens', 'target_pref_name': 'Cytochrome P450 19A1', 'target_tax_id': '9606', 'text_value': None, 'toid': None, 'type': 'IC50', 'units': 'uM', 'uo_units': 'UO_0000065', 'upper_value': None, 'value': '50.0'}, {'action_type': None, 'activity_comment': None, 'activity_id': 112960, 'activity_properties': [], 'assay_chembl_id': 'CHEMBL661700', 'assay_description': 'In vitro inhibition of human Cytochrome P450 19A1', 'assay_type': 'B', 'assay_variant_accession': None, 'assay_variant_mutation': None, 'bao_endpoint': 'BAO_0000190', 'bao_format': 'BAO_0000357', 'bao_label': 'single protein format', 'canonical_smiles': 'CCn1c(C(c2ccc(F)cc2)n2ccnc2)c(C)c2cc(Br)ccc21', 'data_validity_comment': None, 'data_validity_description': None, 'document_chembl_id': 'CHEMBL1131917', 'document_journal': 'Bioorg Med Chem Lett', 'document_year': 1999, 'ligand_efficiency': {'bei': '16.06', 'le': '0.35', 'lle': '0.91', 'sei': '29.11'}, 'molecule_chembl_id': 'CHEMBL431859', 'molecule_pref_name': None, 'parent_molecule_chembl_id': 'CHEMBL431859', 'pchembl_value': '6.62', 'potential_duplicate': 0, 'qudt_units': 'http://www.openphacts.org/units/Nanomolar', 'record_id': 214178, 'relation': '=', 'src_id': 1, 'standard_flag': 1, 'standard_relation': '=', 'standard_text_value': None, 'standard_type': 'IC50', 'standard_units': 'nM', 'standard_upper_value': None, 'standard_value': '238.0', 'target_chembl_id': 'CHEMBL1978', 'target_organism': 'Homo sapiens', 'target_pref_name': 'Cytochrome P450 19A1', 'target_tax_id': '9606', 'text_value': None, 'toid': None, 'type': 'IC50', 'units': 'uM', 'uo_units': 'UO_0000065', 'upper_value': None, 'value': '0.238'}, {'action_type': None, 'activity_comment': None, 'activity_id': 116766, 'activity_properties': [], 'assay_chembl_id': 'CHEMBL661700', 'assay_description': 'In vitro inhibition of human Cytochrome P450 19A1', 'assay_type': 'B', 'assay_variant_accession': None, 'assay_variant_mutation': None, 'bao_endpoint': 'BAO_0000190', 'bao_format': 'BAO_0000357', 'bao_label': 'single protein format', 'canonical_smiles': 'CCn1cc(C(c2ccc(F)cc2)n2ccnc2)c2ccccc21', 'data_validity_comment': None, 'data_validity_description': None, 'document_chembl_id': 'CHEMBL1131917', 'document_journal': 'Bioorg Med Chem Lett', 'document_year': 1999, 'ligand_efficiency': {'bei': '22.68', 'le': '0.41', 'lle': '2.61', 'sei': '31.84'}, 'molecule_chembl_id': 'CHEMBL113637', 'molecule_pref_name': None, 'parent_molecule_chembl_id': 'CHEMBL113637', 'pchembl_value': '7.24', 'potential_duplicate': 0, 'qudt_units': 'http://www.openphacts.org/units/Nanomolar', 'record_id': 214179, 'relation': '=', 'src_id': 1, 'standard_flag': 1, 'standard_relation': '=', 'standard_text_value': None, 'standard_type': 'IC50', 'standard_units': 'nM', 'standard_upper_value': None, 'standard_value': '57.0', 'target_chembl_id': 'CHEMBL1978', 'target_organism': 'Homo sapiens', 'target_pref_name': 'Cytochrome P450 19A1', 'target_tax_id': '9606', 'text_value': None, 'toid': None, 'type': 'IC50', 'units': 'uM', 'uo_units': 'UO_0000065', 'upper_value': None, 'value': '0.057'}, '...(remaining elements truncated)...']"
     },
     "execution_count": 54,
     "metadata": {},
     "output_type": "execute_result"
    }
   ],
   "source": [
    "res"
   ],
   "metadata": {
    "collapsed": false,
    "ExecuteTime": {
     "end_time": "2024-03-06T00:55:06.314746Z",
     "start_time": "2024-03-06T00:55:06.301396Z"
    }
   },
   "id": "efce76915591c44a"
  },
  {
   "cell_type": "code",
   "execution_count": 55,
   "outputs": [],
   "source": [
    "df = pd.DataFrame.from_dict(res)"
   ],
   "metadata": {
    "collapsed": false,
    "ExecuteTime": {
     "end_time": "2024-03-06T00:55:07.653249Z",
     "start_time": "2024-03-06T00:55:07.418359Z"
    }
   },
   "id": "1756be1cbff64157"
  },
  {
   "cell_type": "code",
   "execution_count": 56,
   "outputs": [
    {
     "data": {
      "text/plain": "                                            action_type activity_comment  \\\n0                                                  None             None   \n1                                                  None             None   \n2                                                  None             None   \n3                                                  None             None   \n4                                                  None             None   \n...                                                 ...              ...   \n2961  {'action_type': 'INHIBITOR', 'description': 'N...             None   \n2962                                               None             None   \n2963  {'action_type': 'INHIBITOR', 'description': 'N...             None   \n2964  {'action_type': 'INHIBITOR', 'description': 'N...             None   \n2965  {'action_type': 'INHIBITOR', 'description': 'N...             None   \n\n      activity_id                                activity_properties  \\\n0           82585                                                 []   \n1           94540                                                 []   \n2          112960                                                 []   \n3          116766                                                 []   \n4          118017                                                 []   \n...           ...                                                ...   \n2961     24742461  [{'comments': None, 'relation': '=', 'result_f...   \n2962     24783443                                                 []   \n2963     24886565                                                 []   \n2964     24886566                                                 []   \n2965     24886567                                                 []   \n\n     assay_chembl_id                                  assay_description  \\\n0       CHEMBL666794                 Inhibition of Cytochrome P450 19A1   \n1       CHEMBL666794                 Inhibition of Cytochrome P450 19A1   \n2       CHEMBL661700  In vitro inhibition of human Cytochrome P450 19A1   \n3       CHEMBL661700  In vitro inhibition of human Cytochrome P450 19A1   \n4       CHEMBL661700  In vitro inhibition of human Cytochrome P450 19A1   \n...              ...                                                ...   \n2961   CHEMBL5118295  Inhibition of aromatase in human JEG-3 cells u...   \n2962   CHEMBL5130158  Inhibition of human placental microsome CYP19 ...   \n2963   CHEMBL5157477           Inhibition of aromatase (unknown origin)   \n2964   CHEMBL5157477           Inhibition of aromatase (unknown origin)   \n2965   CHEMBL5157477           Inhibition of aromatase (unknown origin)   \n\n     assay_type assay_variant_accession assay_variant_mutation bao_endpoint  \\\n0             B                    None                   None  BAO_0000190   \n1             B                    None                   None  BAO_0000190   \n2             B                    None                   None  BAO_0000190   \n3             B                    None                   None  BAO_0000190   \n4             B                    None                   None  BAO_0000190   \n...         ...                     ...                    ...          ...   \n2961          B                    None                   None  BAO_0000190   \n2962          A                    None                   None  BAO_0000190   \n2963          B                    None                   None  BAO_0000190   \n2964          B                    None                   None  BAO_0000190   \n2965          B                    None                   None  BAO_0000190   \n\n      ... target_organism      target_pref_name target_tax_id text_value  \\\n0     ...    Homo sapiens  Cytochrome P450 19A1          9606       None   \n1     ...    Homo sapiens  Cytochrome P450 19A1          9606       None   \n2     ...    Homo sapiens  Cytochrome P450 19A1          9606       None   \n3     ...    Homo sapiens  Cytochrome P450 19A1          9606       None   \n4     ...    Homo sapiens  Cytochrome P450 19A1          9606       None   \n...   ...             ...                   ...           ...        ...   \n2961  ...    Homo sapiens  Cytochrome P450 19A1          9606       None   \n2962  ...    Homo sapiens  Cytochrome P450 19A1          9606       None   \n2963  ...    Homo sapiens  Cytochrome P450 19A1          9606       None   \n2964  ...    Homo sapiens  Cytochrome P450 19A1          9606       None   \n2965  ...    Homo sapiens  Cytochrome P450 19A1          9606       None   \n\n      toid  type units    uo_units upper_value                 value  \n0     None  IC50    uM  UO_0000065        None                   7.1  \n1     None  IC50    uM  UO_0000065        None                  50.0  \n2     None  IC50    uM  UO_0000065        None                 0.238  \n3     None  IC50    uM  UO_0000065        None                 0.057  \n4     None  IC50    uM  UO_0000065        None                 0.054  \n...    ...   ...   ...         ...         ...                   ...  \n2961  None  IC50    nM  UO_0000065        None                  50.1  \n2962  None  IC50    uM  UO_0000065        None                  10.0  \n2963  None  IC50    uM  UO_0000065        None                 0.031  \n2964  None  IC50    uM  UO_0000065        None                 0.042  \n2965  None  IC50    uM  UO_0000065        None  0.026000000000000002  \n\n[2966 rows x 46 columns]",
      "text/html": "<div>\n<style scoped>\n    .dataframe tbody tr th:only-of-type {\n        vertical-align: middle;\n    }\n\n    .dataframe tbody tr th {\n        vertical-align: top;\n    }\n\n    .dataframe thead th {\n        text-align: right;\n    }\n</style>\n<table border=\"1\" class=\"dataframe\">\n  <thead>\n    <tr style=\"text-align: right;\">\n      <th></th>\n      <th>action_type</th>\n      <th>activity_comment</th>\n      <th>activity_id</th>\n      <th>activity_properties</th>\n      <th>assay_chembl_id</th>\n      <th>assay_description</th>\n      <th>assay_type</th>\n      <th>assay_variant_accession</th>\n      <th>assay_variant_mutation</th>\n      <th>bao_endpoint</th>\n      <th>...</th>\n      <th>target_organism</th>\n      <th>target_pref_name</th>\n      <th>target_tax_id</th>\n      <th>text_value</th>\n      <th>toid</th>\n      <th>type</th>\n      <th>units</th>\n      <th>uo_units</th>\n      <th>upper_value</th>\n      <th>value</th>\n    </tr>\n  </thead>\n  <tbody>\n    <tr>\n      <th>0</th>\n      <td>None</td>\n      <td>None</td>\n      <td>82585</td>\n      <td>[]</td>\n      <td>CHEMBL666794</td>\n      <td>Inhibition of Cytochrome P450 19A1</td>\n      <td>B</td>\n      <td>None</td>\n      <td>None</td>\n      <td>BAO_0000190</td>\n      <td>...</td>\n      <td>Homo sapiens</td>\n      <td>Cytochrome P450 19A1</td>\n      <td>9606</td>\n      <td>None</td>\n      <td>None</td>\n      <td>IC50</td>\n      <td>uM</td>\n      <td>UO_0000065</td>\n      <td>None</td>\n      <td>7.1</td>\n    </tr>\n    <tr>\n      <th>1</th>\n      <td>None</td>\n      <td>None</td>\n      <td>94540</td>\n      <td>[]</td>\n      <td>CHEMBL666794</td>\n      <td>Inhibition of Cytochrome P450 19A1</td>\n      <td>B</td>\n      <td>None</td>\n      <td>None</td>\n      <td>BAO_0000190</td>\n      <td>...</td>\n      <td>Homo sapiens</td>\n      <td>Cytochrome P450 19A1</td>\n      <td>9606</td>\n      <td>None</td>\n      <td>None</td>\n      <td>IC50</td>\n      <td>uM</td>\n      <td>UO_0000065</td>\n      <td>None</td>\n      <td>50.0</td>\n    </tr>\n    <tr>\n      <th>2</th>\n      <td>None</td>\n      <td>None</td>\n      <td>112960</td>\n      <td>[]</td>\n      <td>CHEMBL661700</td>\n      <td>In vitro inhibition of human Cytochrome P450 19A1</td>\n      <td>B</td>\n      <td>None</td>\n      <td>None</td>\n      <td>BAO_0000190</td>\n      <td>...</td>\n      <td>Homo sapiens</td>\n      <td>Cytochrome P450 19A1</td>\n      <td>9606</td>\n      <td>None</td>\n      <td>None</td>\n      <td>IC50</td>\n      <td>uM</td>\n      <td>UO_0000065</td>\n      <td>None</td>\n      <td>0.238</td>\n    </tr>\n    <tr>\n      <th>3</th>\n      <td>None</td>\n      <td>None</td>\n      <td>116766</td>\n      <td>[]</td>\n      <td>CHEMBL661700</td>\n      <td>In vitro inhibition of human Cytochrome P450 19A1</td>\n      <td>B</td>\n      <td>None</td>\n      <td>None</td>\n      <td>BAO_0000190</td>\n      <td>...</td>\n      <td>Homo sapiens</td>\n      <td>Cytochrome P450 19A1</td>\n      <td>9606</td>\n      <td>None</td>\n      <td>None</td>\n      <td>IC50</td>\n      <td>uM</td>\n      <td>UO_0000065</td>\n      <td>None</td>\n      <td>0.057</td>\n    </tr>\n    <tr>\n      <th>4</th>\n      <td>None</td>\n      <td>None</td>\n      <td>118017</td>\n      <td>[]</td>\n      <td>CHEMBL661700</td>\n      <td>In vitro inhibition of human Cytochrome P450 19A1</td>\n      <td>B</td>\n      <td>None</td>\n      <td>None</td>\n      <td>BAO_0000190</td>\n      <td>...</td>\n      <td>Homo sapiens</td>\n      <td>Cytochrome P450 19A1</td>\n      <td>9606</td>\n      <td>None</td>\n      <td>None</td>\n      <td>IC50</td>\n      <td>uM</td>\n      <td>UO_0000065</td>\n      <td>None</td>\n      <td>0.054</td>\n    </tr>\n    <tr>\n      <th>...</th>\n      <td>...</td>\n      <td>...</td>\n      <td>...</td>\n      <td>...</td>\n      <td>...</td>\n      <td>...</td>\n      <td>...</td>\n      <td>...</td>\n      <td>...</td>\n      <td>...</td>\n      <td>...</td>\n      <td>...</td>\n      <td>...</td>\n      <td>...</td>\n      <td>...</td>\n      <td>...</td>\n      <td>...</td>\n      <td>...</td>\n      <td>...</td>\n      <td>...</td>\n      <td>...</td>\n    </tr>\n    <tr>\n      <th>2961</th>\n      <td>{'action_type': 'INHIBITOR', 'description': 'N...</td>\n      <td>None</td>\n      <td>24742461</td>\n      <td>[{'comments': None, 'relation': '=', 'result_f...</td>\n      <td>CHEMBL5118295</td>\n      <td>Inhibition of aromatase in human JEG-3 cells u...</td>\n      <td>B</td>\n      <td>None</td>\n      <td>None</td>\n      <td>BAO_0000190</td>\n      <td>...</td>\n      <td>Homo sapiens</td>\n      <td>Cytochrome P450 19A1</td>\n      <td>9606</td>\n      <td>None</td>\n      <td>None</td>\n      <td>IC50</td>\n      <td>nM</td>\n      <td>UO_0000065</td>\n      <td>None</td>\n      <td>50.1</td>\n    </tr>\n    <tr>\n      <th>2962</th>\n      <td>None</td>\n      <td>None</td>\n      <td>24783443</td>\n      <td>[]</td>\n      <td>CHEMBL5130158</td>\n      <td>Inhibition of human placental microsome CYP19 ...</td>\n      <td>A</td>\n      <td>None</td>\n      <td>None</td>\n      <td>BAO_0000190</td>\n      <td>...</td>\n      <td>Homo sapiens</td>\n      <td>Cytochrome P450 19A1</td>\n      <td>9606</td>\n      <td>None</td>\n      <td>None</td>\n      <td>IC50</td>\n      <td>uM</td>\n      <td>UO_0000065</td>\n      <td>None</td>\n      <td>10.0</td>\n    </tr>\n    <tr>\n      <th>2963</th>\n      <td>{'action_type': 'INHIBITOR', 'description': 'N...</td>\n      <td>None</td>\n      <td>24886565</td>\n      <td>[]</td>\n      <td>CHEMBL5157477</td>\n      <td>Inhibition of aromatase (unknown origin)</td>\n      <td>B</td>\n      <td>None</td>\n      <td>None</td>\n      <td>BAO_0000190</td>\n      <td>...</td>\n      <td>Homo sapiens</td>\n      <td>Cytochrome P450 19A1</td>\n      <td>9606</td>\n      <td>None</td>\n      <td>None</td>\n      <td>IC50</td>\n      <td>uM</td>\n      <td>UO_0000065</td>\n      <td>None</td>\n      <td>0.031</td>\n    </tr>\n    <tr>\n      <th>2964</th>\n      <td>{'action_type': 'INHIBITOR', 'description': 'N...</td>\n      <td>None</td>\n      <td>24886566</td>\n      <td>[]</td>\n      <td>CHEMBL5157477</td>\n      <td>Inhibition of aromatase (unknown origin)</td>\n      <td>B</td>\n      <td>None</td>\n      <td>None</td>\n      <td>BAO_0000190</td>\n      <td>...</td>\n      <td>Homo sapiens</td>\n      <td>Cytochrome P450 19A1</td>\n      <td>9606</td>\n      <td>None</td>\n      <td>None</td>\n      <td>IC50</td>\n      <td>uM</td>\n      <td>UO_0000065</td>\n      <td>None</td>\n      <td>0.042</td>\n    </tr>\n    <tr>\n      <th>2965</th>\n      <td>{'action_type': 'INHIBITOR', 'description': 'N...</td>\n      <td>None</td>\n      <td>24886567</td>\n      <td>[]</td>\n      <td>CHEMBL5157477</td>\n      <td>Inhibition of aromatase (unknown origin)</td>\n      <td>B</td>\n      <td>None</td>\n      <td>None</td>\n      <td>BAO_0000190</td>\n      <td>...</td>\n      <td>Homo sapiens</td>\n      <td>Cytochrome P450 19A1</td>\n      <td>9606</td>\n      <td>None</td>\n      <td>None</td>\n      <td>IC50</td>\n      <td>uM</td>\n      <td>UO_0000065</td>\n      <td>None</td>\n      <td>0.026000000000000002</td>\n    </tr>\n  </tbody>\n</table>\n<p>2966 rows × 46 columns</p>\n</div>"
     },
     "execution_count": 56,
     "metadata": {},
     "output_type": "execute_result"
    }
   ],
   "source": [
    "df"
   ],
   "metadata": {
    "collapsed": false,
    "ExecuteTime": {
     "end_time": "2024-03-06T00:55:08.751798Z",
     "start_time": "2024-03-06T00:55:08.730051Z"
    }
   },
   "id": "5d1a4caf53fe2bad"
  },
  {
   "cell_type": "markdown",
   "source": [
    "El término \"IC50\" se refiere a la Concentración Inhibitoria del 50% y es una medida utilizada en bioquímica y farmacología para cuantificar la efectividad de un compuesto para inhibir una determinada actividad biológica. El IC50 sirve para describir la concentración de un inhibidor necesario para reducir una respuesta biológica en un 50%."
   ],
   "metadata": {
    "collapsed": false
   },
   "id": "fd40c5b1a724e8e7"
  },
  {
   "cell_type": "code",
   "execution_count": 57,
   "outputs": [
    {
     "data": {
      "text/plain": "array(['IC50'], dtype=object)"
     },
     "execution_count": 57,
     "metadata": {},
     "output_type": "execute_result"
    }
   ],
   "source": [
    "df.standard_type.unique()"
   ],
   "metadata": {
    "collapsed": false,
    "ExecuteTime": {
     "end_time": "2024-03-06T00:55:12.746273Z",
     "start_time": "2024-03-06T00:55:12.731922Z"
    }
   },
   "id": "2f4077614bd049ba"
  },
  {
   "cell_type": "code",
   "execution_count": 58,
   "outputs": [],
   "source": [
    "df.to_csv('bioactivity_data.csv', index=False)"
   ],
   "metadata": {
    "collapsed": false,
    "ExecuteTime": {
     "end_time": "2024-03-06T00:55:16.969660Z",
     "start_time": "2024-03-06T00:55:16.917689Z"
    }
   },
   "id": "45249ddc993bbe10"
  },
  {
   "cell_type": "code",
   "execution_count": 59,
   "outputs": [
    {
     "name": "stdout",
     "output_type": "stream",
     "text": [
      "CDD P1.ipynb                      bioactivity_data.csv\r\n",
      "CDD P2.ipynb                      bioactivity_preprocessed_data.csv\r\n",
      "Readme.md\r\n"
     ]
    }
   ],
   "source": [
    "!ls"
   ],
   "metadata": {
    "collapsed": false,
    "ExecuteTime": {
     "end_time": "2024-03-06T00:55:17.927593Z",
     "start_time": "2024-03-06T00:55:17.783021Z"
    }
   },
   "id": "ac4a3f59e80d3a5f"
  },
  {
   "cell_type": "markdown",
   "source": [
    "El término \"standard value\" (valor estándar) en el contexto de ChEMBL, se refiere a la medida cuantitativa de una propiedad específica asociada a una interacción molecular, como la afinidad de un compuesto por un objetivo biológico. En términos más generales, se utiliza para expresar la potencia o actividad de un compuesto en relación con un determinado objetivo biológico."
   ],
   "metadata": {
    "collapsed": false
   },
   "id": "462735b6350d55b6"
  },
  {
   "cell_type": "code",
   "execution_count": 60,
   "outputs": [
    {
     "data": {
      "text/plain": "                                            action_type activity_comment  \\\n0                                                  None             None   \n1                                                  None             None   \n2                                                  None             None   \n3                                                  None             None   \n4                                                  None             None   \n...                                                 ...              ...   \n2961  {'action_type': 'INHIBITOR', 'description': 'N...             None   \n2962                                               None             None   \n2963  {'action_type': 'INHIBITOR', 'description': 'N...             None   \n2964  {'action_type': 'INHIBITOR', 'description': 'N...             None   \n2965  {'action_type': 'INHIBITOR', 'description': 'N...             None   \n\n      activity_id                                activity_properties  \\\n0           82585                                                 []   \n1           94540                                                 []   \n2          112960                                                 []   \n3          116766                                                 []   \n4          118017                                                 []   \n...           ...                                                ...   \n2961     24742461  [{'comments': None, 'relation': '=', 'result_f...   \n2962     24783443                                                 []   \n2963     24886565                                                 []   \n2964     24886566                                                 []   \n2965     24886567                                                 []   \n\n     assay_chembl_id                                  assay_description  \\\n0       CHEMBL666794                 Inhibition of Cytochrome P450 19A1   \n1       CHEMBL666794                 Inhibition of Cytochrome P450 19A1   \n2       CHEMBL661700  In vitro inhibition of human Cytochrome P450 19A1   \n3       CHEMBL661700  In vitro inhibition of human Cytochrome P450 19A1   \n4       CHEMBL661700  In vitro inhibition of human Cytochrome P450 19A1   \n...              ...                                                ...   \n2961   CHEMBL5118295  Inhibition of aromatase in human JEG-3 cells u...   \n2962   CHEMBL5130158  Inhibition of human placental microsome CYP19 ...   \n2963   CHEMBL5157477           Inhibition of aromatase (unknown origin)   \n2964   CHEMBL5157477           Inhibition of aromatase (unknown origin)   \n2965   CHEMBL5157477           Inhibition of aromatase (unknown origin)   \n\n     assay_type assay_variant_accession assay_variant_mutation bao_endpoint  \\\n0             B                    None                   None  BAO_0000190   \n1             B                    None                   None  BAO_0000190   \n2             B                    None                   None  BAO_0000190   \n3             B                    None                   None  BAO_0000190   \n4             B                    None                   None  BAO_0000190   \n...         ...                     ...                    ...          ...   \n2961          B                    None                   None  BAO_0000190   \n2962          A                    None                   None  BAO_0000190   \n2963          B                    None                   None  BAO_0000190   \n2964          B                    None                   None  BAO_0000190   \n2965          B                    None                   None  BAO_0000190   \n\n      ... target_organism      target_pref_name target_tax_id text_value  \\\n0     ...    Homo sapiens  Cytochrome P450 19A1          9606       None   \n1     ...    Homo sapiens  Cytochrome P450 19A1          9606       None   \n2     ...    Homo sapiens  Cytochrome P450 19A1          9606       None   \n3     ...    Homo sapiens  Cytochrome P450 19A1          9606       None   \n4     ...    Homo sapiens  Cytochrome P450 19A1          9606       None   \n...   ...             ...                   ...           ...        ...   \n2961  ...    Homo sapiens  Cytochrome P450 19A1          9606       None   \n2962  ...    Homo sapiens  Cytochrome P450 19A1          9606       None   \n2963  ...    Homo sapiens  Cytochrome P450 19A1          9606       None   \n2964  ...    Homo sapiens  Cytochrome P450 19A1          9606       None   \n2965  ...    Homo sapiens  Cytochrome P450 19A1          9606       None   \n\n      toid  type units    uo_units upper_value                 value  \n0     None  IC50    uM  UO_0000065        None                   7.1  \n1     None  IC50    uM  UO_0000065        None                  50.0  \n2     None  IC50    uM  UO_0000065        None                 0.238  \n3     None  IC50    uM  UO_0000065        None                 0.057  \n4     None  IC50    uM  UO_0000065        None                 0.054  \n...    ...   ...   ...         ...         ...                   ...  \n2961  None  IC50    nM  UO_0000065        None                  50.1  \n2962  None  IC50    uM  UO_0000065        None                  10.0  \n2963  None  IC50    uM  UO_0000065        None                 0.031  \n2964  None  IC50    uM  UO_0000065        None                 0.042  \n2965  None  IC50    uM  UO_0000065        None  0.026000000000000002  \n\n[2890 rows x 46 columns]",
      "text/html": "<div>\n<style scoped>\n    .dataframe tbody tr th:only-of-type {\n        vertical-align: middle;\n    }\n\n    .dataframe tbody tr th {\n        vertical-align: top;\n    }\n\n    .dataframe thead th {\n        text-align: right;\n    }\n</style>\n<table border=\"1\" class=\"dataframe\">\n  <thead>\n    <tr style=\"text-align: right;\">\n      <th></th>\n      <th>action_type</th>\n      <th>activity_comment</th>\n      <th>activity_id</th>\n      <th>activity_properties</th>\n      <th>assay_chembl_id</th>\n      <th>assay_description</th>\n      <th>assay_type</th>\n      <th>assay_variant_accession</th>\n      <th>assay_variant_mutation</th>\n      <th>bao_endpoint</th>\n      <th>...</th>\n      <th>target_organism</th>\n      <th>target_pref_name</th>\n      <th>target_tax_id</th>\n      <th>text_value</th>\n      <th>toid</th>\n      <th>type</th>\n      <th>units</th>\n      <th>uo_units</th>\n      <th>upper_value</th>\n      <th>value</th>\n    </tr>\n  </thead>\n  <tbody>\n    <tr>\n      <th>0</th>\n      <td>None</td>\n      <td>None</td>\n      <td>82585</td>\n      <td>[]</td>\n      <td>CHEMBL666794</td>\n      <td>Inhibition of Cytochrome P450 19A1</td>\n      <td>B</td>\n      <td>None</td>\n      <td>None</td>\n      <td>BAO_0000190</td>\n      <td>...</td>\n      <td>Homo sapiens</td>\n      <td>Cytochrome P450 19A1</td>\n      <td>9606</td>\n      <td>None</td>\n      <td>None</td>\n      <td>IC50</td>\n      <td>uM</td>\n      <td>UO_0000065</td>\n      <td>None</td>\n      <td>7.1</td>\n    </tr>\n    <tr>\n      <th>1</th>\n      <td>None</td>\n      <td>None</td>\n      <td>94540</td>\n      <td>[]</td>\n      <td>CHEMBL666794</td>\n      <td>Inhibition of Cytochrome P450 19A1</td>\n      <td>B</td>\n      <td>None</td>\n      <td>None</td>\n      <td>BAO_0000190</td>\n      <td>...</td>\n      <td>Homo sapiens</td>\n      <td>Cytochrome P450 19A1</td>\n      <td>9606</td>\n      <td>None</td>\n      <td>None</td>\n      <td>IC50</td>\n      <td>uM</td>\n      <td>UO_0000065</td>\n      <td>None</td>\n      <td>50.0</td>\n    </tr>\n    <tr>\n      <th>2</th>\n      <td>None</td>\n      <td>None</td>\n      <td>112960</td>\n      <td>[]</td>\n      <td>CHEMBL661700</td>\n      <td>In vitro inhibition of human Cytochrome P450 19A1</td>\n      <td>B</td>\n      <td>None</td>\n      <td>None</td>\n      <td>BAO_0000190</td>\n      <td>...</td>\n      <td>Homo sapiens</td>\n      <td>Cytochrome P450 19A1</td>\n      <td>9606</td>\n      <td>None</td>\n      <td>None</td>\n      <td>IC50</td>\n      <td>uM</td>\n      <td>UO_0000065</td>\n      <td>None</td>\n      <td>0.238</td>\n    </tr>\n    <tr>\n      <th>3</th>\n      <td>None</td>\n      <td>None</td>\n      <td>116766</td>\n      <td>[]</td>\n      <td>CHEMBL661700</td>\n      <td>In vitro inhibition of human Cytochrome P450 19A1</td>\n      <td>B</td>\n      <td>None</td>\n      <td>None</td>\n      <td>BAO_0000190</td>\n      <td>...</td>\n      <td>Homo sapiens</td>\n      <td>Cytochrome P450 19A1</td>\n      <td>9606</td>\n      <td>None</td>\n      <td>None</td>\n      <td>IC50</td>\n      <td>uM</td>\n      <td>UO_0000065</td>\n      <td>None</td>\n      <td>0.057</td>\n    </tr>\n    <tr>\n      <th>4</th>\n      <td>None</td>\n      <td>None</td>\n      <td>118017</td>\n      <td>[]</td>\n      <td>CHEMBL661700</td>\n      <td>In vitro inhibition of human Cytochrome P450 19A1</td>\n      <td>B</td>\n      <td>None</td>\n      <td>None</td>\n      <td>BAO_0000190</td>\n      <td>...</td>\n      <td>Homo sapiens</td>\n      <td>Cytochrome P450 19A1</td>\n      <td>9606</td>\n      <td>None</td>\n      <td>None</td>\n      <td>IC50</td>\n      <td>uM</td>\n      <td>UO_0000065</td>\n      <td>None</td>\n      <td>0.054</td>\n    </tr>\n    <tr>\n      <th>...</th>\n      <td>...</td>\n      <td>...</td>\n      <td>...</td>\n      <td>...</td>\n      <td>...</td>\n      <td>...</td>\n      <td>...</td>\n      <td>...</td>\n      <td>...</td>\n      <td>...</td>\n      <td>...</td>\n      <td>...</td>\n      <td>...</td>\n      <td>...</td>\n      <td>...</td>\n      <td>...</td>\n      <td>...</td>\n      <td>...</td>\n      <td>...</td>\n      <td>...</td>\n      <td>...</td>\n    </tr>\n    <tr>\n      <th>2961</th>\n      <td>{'action_type': 'INHIBITOR', 'description': 'N...</td>\n      <td>None</td>\n      <td>24742461</td>\n      <td>[{'comments': None, 'relation': '=', 'result_f...</td>\n      <td>CHEMBL5118295</td>\n      <td>Inhibition of aromatase in human JEG-3 cells u...</td>\n      <td>B</td>\n      <td>None</td>\n      <td>None</td>\n      <td>BAO_0000190</td>\n      <td>...</td>\n      <td>Homo sapiens</td>\n      <td>Cytochrome P450 19A1</td>\n      <td>9606</td>\n      <td>None</td>\n      <td>None</td>\n      <td>IC50</td>\n      <td>nM</td>\n      <td>UO_0000065</td>\n      <td>None</td>\n      <td>50.1</td>\n    </tr>\n    <tr>\n      <th>2962</th>\n      <td>None</td>\n      <td>None</td>\n      <td>24783443</td>\n      <td>[]</td>\n      <td>CHEMBL5130158</td>\n      <td>Inhibition of human placental microsome CYP19 ...</td>\n      <td>A</td>\n      <td>None</td>\n      <td>None</td>\n      <td>BAO_0000190</td>\n      <td>...</td>\n      <td>Homo sapiens</td>\n      <td>Cytochrome P450 19A1</td>\n      <td>9606</td>\n      <td>None</td>\n      <td>None</td>\n      <td>IC50</td>\n      <td>uM</td>\n      <td>UO_0000065</td>\n      <td>None</td>\n      <td>10.0</td>\n    </tr>\n    <tr>\n      <th>2963</th>\n      <td>{'action_type': 'INHIBITOR', 'description': 'N...</td>\n      <td>None</td>\n      <td>24886565</td>\n      <td>[]</td>\n      <td>CHEMBL5157477</td>\n      <td>Inhibition of aromatase (unknown origin)</td>\n      <td>B</td>\n      <td>None</td>\n      <td>None</td>\n      <td>BAO_0000190</td>\n      <td>...</td>\n      <td>Homo sapiens</td>\n      <td>Cytochrome P450 19A1</td>\n      <td>9606</td>\n      <td>None</td>\n      <td>None</td>\n      <td>IC50</td>\n      <td>uM</td>\n      <td>UO_0000065</td>\n      <td>None</td>\n      <td>0.031</td>\n    </tr>\n    <tr>\n      <th>2964</th>\n      <td>{'action_type': 'INHIBITOR', 'description': 'N...</td>\n      <td>None</td>\n      <td>24886566</td>\n      <td>[]</td>\n      <td>CHEMBL5157477</td>\n      <td>Inhibition of aromatase (unknown origin)</td>\n      <td>B</td>\n      <td>None</td>\n      <td>None</td>\n      <td>BAO_0000190</td>\n      <td>...</td>\n      <td>Homo sapiens</td>\n      <td>Cytochrome P450 19A1</td>\n      <td>9606</td>\n      <td>None</td>\n      <td>None</td>\n      <td>IC50</td>\n      <td>uM</td>\n      <td>UO_0000065</td>\n      <td>None</td>\n      <td>0.042</td>\n    </tr>\n    <tr>\n      <th>2965</th>\n      <td>{'action_type': 'INHIBITOR', 'description': 'N...</td>\n      <td>None</td>\n      <td>24886567</td>\n      <td>[]</td>\n      <td>CHEMBL5157477</td>\n      <td>Inhibition of aromatase (unknown origin)</td>\n      <td>B</td>\n      <td>None</td>\n      <td>None</td>\n      <td>BAO_0000190</td>\n      <td>...</td>\n      <td>Homo sapiens</td>\n      <td>Cytochrome P450 19A1</td>\n      <td>9606</td>\n      <td>None</td>\n      <td>None</td>\n      <td>IC50</td>\n      <td>uM</td>\n      <td>UO_0000065</td>\n      <td>None</td>\n      <td>0.026000000000000002</td>\n    </tr>\n  </tbody>\n</table>\n<p>2890 rows × 46 columns</p>\n</div>"
     },
     "execution_count": 60,
     "metadata": {},
     "output_type": "execute_result"
    }
   ],
   "source": [
    "df2 = df[df.standard_value.notna()]\n",
    "df2"
   ],
   "metadata": {
    "collapsed": false,
    "ExecuteTime": {
     "end_time": "2024-03-06T00:55:22.729712Z",
     "start_time": "2024-03-06T00:55:22.696486Z"
    }
   },
   "id": "8b5f7b9560818fa8"
  },
  {
   "cell_type": "code",
   "execution_count": 75,
   "outputs": [],
   "source": [
    "bioactivity_class = []\n",
    "for i in df2.standard_value:\n",
    "    if float(i) >= 10000: \n",
    "        bioactivity_class.append('inactive')\n",
    "    elif float(i) >= 1000:\n",
    "        bioactivity_class.append('active')\n",
    "    else:\n",
    "        bioactivity_class.append('intermediate')"
   ],
   "metadata": {
    "collapsed": false,
    "ExecuteTime": {
     "end_time": "2024-03-06T01:02:06.037664Z",
     "start_time": "2024-03-06T01:02:06.027112Z"
    }
   },
   "id": "2f49b98f64a83c62"
  },
  {
   "cell_type": "code",
   "execution_count": 76,
   "outputs": [],
   "source": [
    "selection = ['molecule_chembl_id', 'canonical_smiles', 'standard_value']\n",
    "df3 = df2[selection]"
   ],
   "metadata": {
    "collapsed": false,
    "ExecuteTime": {
     "end_time": "2024-03-06T01:02:06.402173Z",
     "start_time": "2024-03-06T01:02:06.393324Z"
    }
   },
   "id": "770bde67672de5fb"
  },
  {
   "cell_type": "code",
   "execution_count": 77,
   "outputs": [
    {
     "data": {
      "text/plain": "     molecule_chembl_id                                   canonical_smiles  \\\n0          CHEMBL341591          CC12CCC(O)CC1=CCC1C2CCC2(C)C(CC3CN3)CCC12   \n1         CHEMBL2111947  C[C@]12CC[C@H]3[C@@H](CC=C4C[C@@H](O)CC[C@@]43...   \n2          CHEMBL431859      CCn1c(C(c2ccc(F)cc2)n2ccnc2)c(C)c2cc(Br)ccc21   \n3          CHEMBL113637             CCn1cc(C(c2ccc(F)cc2)n2ccnc2)c2ccccc21   \n4          CHEMBL112021                 Clc1ccccc1Cn1cc(Cn2ccnc2)c2ccccc21   \n...                 ...                                                ...   \n2961      CHEMBL1200374  C=C1C[C@@H]2[C@H](CC[C@]3(C)C(=O)CC[C@@H]23)[C...   \n2962      CHEMBL5184829  O=C(Nc1ccc2[nH]ncc2c1)[C@]12ON=C(c3cccnc3)[C@H...   \n2963      CHEMBL5176279         CCOC(=O)Cc1csc(N/N=C/c2ccc3cc(OC)ccc3c2)n1   \n2964      CHEMBL5177928               COc1ccc2cc(/C=N/NC3=NC(=O)CS3)ccc2c1   \n2965         CHEMBL1444               N#Cc1ccc(C(c2ccc(C#N)cc2)n2cncn2)cc1   \n\n     standard_value  \n0            7100.0  \n1           50000.0  \n2             238.0  \n3              57.0  \n4              54.0  \n...             ...  \n2961           50.1  \n2962        10000.0  \n2963           31.0  \n2964           42.0  \n2965           26.0  \n\n[2890 rows x 3 columns]",
      "text/html": "<div>\n<style scoped>\n    .dataframe tbody tr th:only-of-type {\n        vertical-align: middle;\n    }\n\n    .dataframe tbody tr th {\n        vertical-align: top;\n    }\n\n    .dataframe thead th {\n        text-align: right;\n    }\n</style>\n<table border=\"1\" class=\"dataframe\">\n  <thead>\n    <tr style=\"text-align: right;\">\n      <th></th>\n      <th>molecule_chembl_id</th>\n      <th>canonical_smiles</th>\n      <th>standard_value</th>\n    </tr>\n  </thead>\n  <tbody>\n    <tr>\n      <th>0</th>\n      <td>CHEMBL341591</td>\n      <td>CC12CCC(O)CC1=CCC1C2CCC2(C)C(CC3CN3)CCC12</td>\n      <td>7100.0</td>\n    </tr>\n    <tr>\n      <th>1</th>\n      <td>CHEMBL2111947</td>\n      <td>C[C@]12CC[C@H]3[C@@H](CC=C4C[C@@H](O)CC[C@@]43...</td>\n      <td>50000.0</td>\n    </tr>\n    <tr>\n      <th>2</th>\n      <td>CHEMBL431859</td>\n      <td>CCn1c(C(c2ccc(F)cc2)n2ccnc2)c(C)c2cc(Br)ccc21</td>\n      <td>238.0</td>\n    </tr>\n    <tr>\n      <th>3</th>\n      <td>CHEMBL113637</td>\n      <td>CCn1cc(C(c2ccc(F)cc2)n2ccnc2)c2ccccc21</td>\n      <td>57.0</td>\n    </tr>\n    <tr>\n      <th>4</th>\n      <td>CHEMBL112021</td>\n      <td>Clc1ccccc1Cn1cc(Cn2ccnc2)c2ccccc21</td>\n      <td>54.0</td>\n    </tr>\n    <tr>\n      <th>...</th>\n      <td>...</td>\n      <td>...</td>\n      <td>...</td>\n    </tr>\n    <tr>\n      <th>2961</th>\n      <td>CHEMBL1200374</td>\n      <td>C=C1C[C@@H]2[C@H](CC[C@]3(C)C(=O)CC[C@@H]23)[C...</td>\n      <td>50.1</td>\n    </tr>\n    <tr>\n      <th>2962</th>\n      <td>CHEMBL5184829</td>\n      <td>O=C(Nc1ccc2[nH]ncc2c1)[C@]12ON=C(c3cccnc3)[C@H...</td>\n      <td>10000.0</td>\n    </tr>\n    <tr>\n      <th>2963</th>\n      <td>CHEMBL5176279</td>\n      <td>CCOC(=O)Cc1csc(N/N=C/c2ccc3cc(OC)ccc3c2)n1</td>\n      <td>31.0</td>\n    </tr>\n    <tr>\n      <th>2964</th>\n      <td>CHEMBL5177928</td>\n      <td>COc1ccc2cc(/C=N/NC3=NC(=O)CS3)ccc2c1</td>\n      <td>42.0</td>\n    </tr>\n    <tr>\n      <th>2965</th>\n      <td>CHEMBL1444</td>\n      <td>N#Cc1ccc(C(c2ccc(C#N)cc2)n2cncn2)cc1</td>\n      <td>26.0</td>\n    </tr>\n  </tbody>\n</table>\n<p>2890 rows × 3 columns</p>\n</div>"
     },
     "execution_count": 77,
     "metadata": {},
     "output_type": "execute_result"
    }
   ],
   "source": [
    "df3"
   ],
   "metadata": {
    "collapsed": false,
    "ExecuteTime": {
     "end_time": "2024-03-06T01:02:06.897053Z",
     "start_time": "2024-03-06T01:02:06.891223Z"
    }
   },
   "id": "34214a69088e36c6"
  },
  {
   "cell_type": "code",
   "execution_count": 78,
   "outputs": [],
   "source": [
    "bioactivity_class = pd.Series(bioactivity_class, name='bioactivity_class')\n",
    "df4 = pd.concat([df3.reset_index(drop=True), pd.Series(bioactivity_class)], axis=1)"
   ],
   "metadata": {
    "collapsed": false,
    "ExecuteTime": {
     "end_time": "2024-03-06T01:02:08.062322Z",
     "start_time": "2024-03-06T01:02:08.060385Z"
    }
   },
   "id": "f928733669a1f916"
  },
  {
   "cell_type": "code",
   "execution_count": 79,
   "outputs": [
    {
     "data": {
      "text/plain": "     molecule_chembl_id                                   canonical_smiles  \\\n0          CHEMBL341591          CC12CCC(O)CC1=CCC1C2CCC2(C)C(CC3CN3)CCC12   \n1         CHEMBL2111947  C[C@]12CC[C@H]3[C@@H](CC=C4C[C@@H](O)CC[C@@]43...   \n2          CHEMBL431859      CCn1c(C(c2ccc(F)cc2)n2ccnc2)c(C)c2cc(Br)ccc21   \n3          CHEMBL113637             CCn1cc(C(c2ccc(F)cc2)n2ccnc2)c2ccccc21   \n4          CHEMBL112021                 Clc1ccccc1Cn1cc(Cn2ccnc2)c2ccccc21   \n...                 ...                                                ...   \n2885      CHEMBL1200374  C=C1C[C@@H]2[C@H](CC[C@]3(C)C(=O)CC[C@@H]23)[C...   \n2886      CHEMBL5184829  O=C(Nc1ccc2[nH]ncc2c1)[C@]12ON=C(c3cccnc3)[C@H...   \n2887      CHEMBL5176279         CCOC(=O)Cc1csc(N/N=C/c2ccc3cc(OC)ccc3c2)n1   \n2888      CHEMBL5177928               COc1ccc2cc(/C=N/NC3=NC(=O)CS3)ccc2c1   \n2889         CHEMBL1444               N#Cc1ccc(C(c2ccc(C#N)cc2)n2cncn2)cc1   \n\n     standard_value bioactivity_class  \n0            7100.0            active  \n1           50000.0          inactive  \n2             238.0      intermediate  \n3              57.0      intermediate  \n4              54.0      intermediate  \n...             ...               ...  \n2885           50.1      intermediate  \n2886        10000.0          inactive  \n2887           31.0      intermediate  \n2888           42.0      intermediate  \n2889           26.0      intermediate  \n\n[2890 rows x 4 columns]",
      "text/html": "<div>\n<style scoped>\n    .dataframe tbody tr th:only-of-type {\n        vertical-align: middle;\n    }\n\n    .dataframe tbody tr th {\n        vertical-align: top;\n    }\n\n    .dataframe thead th {\n        text-align: right;\n    }\n</style>\n<table border=\"1\" class=\"dataframe\">\n  <thead>\n    <tr style=\"text-align: right;\">\n      <th></th>\n      <th>molecule_chembl_id</th>\n      <th>canonical_smiles</th>\n      <th>standard_value</th>\n      <th>bioactivity_class</th>\n    </tr>\n  </thead>\n  <tbody>\n    <tr>\n      <th>0</th>\n      <td>CHEMBL341591</td>\n      <td>CC12CCC(O)CC1=CCC1C2CCC2(C)C(CC3CN3)CCC12</td>\n      <td>7100.0</td>\n      <td>active</td>\n    </tr>\n    <tr>\n      <th>1</th>\n      <td>CHEMBL2111947</td>\n      <td>C[C@]12CC[C@H]3[C@@H](CC=C4C[C@@H](O)CC[C@@]43...</td>\n      <td>50000.0</td>\n      <td>inactive</td>\n    </tr>\n    <tr>\n      <th>2</th>\n      <td>CHEMBL431859</td>\n      <td>CCn1c(C(c2ccc(F)cc2)n2ccnc2)c(C)c2cc(Br)ccc21</td>\n      <td>238.0</td>\n      <td>intermediate</td>\n    </tr>\n    <tr>\n      <th>3</th>\n      <td>CHEMBL113637</td>\n      <td>CCn1cc(C(c2ccc(F)cc2)n2ccnc2)c2ccccc21</td>\n      <td>57.0</td>\n      <td>intermediate</td>\n    </tr>\n    <tr>\n      <th>4</th>\n      <td>CHEMBL112021</td>\n      <td>Clc1ccccc1Cn1cc(Cn2ccnc2)c2ccccc21</td>\n      <td>54.0</td>\n      <td>intermediate</td>\n    </tr>\n    <tr>\n      <th>...</th>\n      <td>...</td>\n      <td>...</td>\n      <td>...</td>\n      <td>...</td>\n    </tr>\n    <tr>\n      <th>2885</th>\n      <td>CHEMBL1200374</td>\n      <td>C=C1C[C@@H]2[C@H](CC[C@]3(C)C(=O)CC[C@@H]23)[C...</td>\n      <td>50.1</td>\n      <td>intermediate</td>\n    </tr>\n    <tr>\n      <th>2886</th>\n      <td>CHEMBL5184829</td>\n      <td>O=C(Nc1ccc2[nH]ncc2c1)[C@]12ON=C(c3cccnc3)[C@H...</td>\n      <td>10000.0</td>\n      <td>inactive</td>\n    </tr>\n    <tr>\n      <th>2887</th>\n      <td>CHEMBL5176279</td>\n      <td>CCOC(=O)Cc1csc(N/N=C/c2ccc3cc(OC)ccc3c2)n1</td>\n      <td>31.0</td>\n      <td>intermediate</td>\n    </tr>\n    <tr>\n      <th>2888</th>\n      <td>CHEMBL5177928</td>\n      <td>COc1ccc2cc(/C=N/NC3=NC(=O)CS3)ccc2c1</td>\n      <td>42.0</td>\n      <td>intermediate</td>\n    </tr>\n    <tr>\n      <th>2889</th>\n      <td>CHEMBL1444</td>\n      <td>N#Cc1ccc(C(c2ccc(C#N)cc2)n2cncn2)cc1</td>\n      <td>26.0</td>\n      <td>intermediate</td>\n    </tr>\n  </tbody>\n</table>\n<p>2890 rows × 4 columns</p>\n</div>"
     },
     "execution_count": 79,
     "metadata": {},
     "output_type": "execute_result"
    }
   ],
   "source": [
    "df4"
   ],
   "metadata": {
    "collapsed": false,
    "ExecuteTime": {
     "end_time": "2024-03-06T01:02:09.003911Z",
     "start_time": "2024-03-06T01:02:08.994038Z"
    }
   },
   "id": "6cbbda7248ad9d95"
  },
  {
   "cell_type": "code",
   "execution_count": 80,
   "outputs": [],
   "source": [
    "df4.to_csv('bioactivity_preprocessed_data.csv', index=False)"
   ],
   "metadata": {
    "collapsed": false,
    "ExecuteTime": {
     "end_time": "2024-03-06T01:02:09.917863Z",
     "start_time": "2024-03-06T01:02:09.901695Z"
    }
   },
   "id": "99f9293163243ee6"
  },
  {
   "cell_type": "code",
   "execution_count": 81,
   "outputs": [
    {
     "name": "stdout",
     "output_type": "stream",
     "text": [
      "CDD P1.ipynb                      bioactivity_data.csv\r\n",
      "CDD P2.ipynb                      bioactivity_preprocessed_data.csv\r\n",
      "Readme.md\r\n"
     ]
    }
   ],
   "source": [
    "!ls"
   ],
   "metadata": {
    "collapsed": false,
    "ExecuteTime": {
     "end_time": "2024-03-06T01:02:11.335724Z",
     "start_time": "2024-03-06T01:02:11.202194Z"
    }
   },
   "id": "2c436fa43e7f8cd7"
  },
  {
   "cell_type": "code",
   "execution_count": null,
   "outputs": [],
   "source": [],
   "metadata": {
    "collapsed": false
   },
   "id": "da2a35b5ee070c6b"
  }
 ],
 "metadata": {
  "kernelspec": {
   "display_name": "Python 3",
   "language": "python",
   "name": "python3"
  },
  "language_info": {
   "codemirror_mode": {
    "name": "ipython",
    "version": 2
   },
   "file_extension": ".py",
   "mimetype": "text/x-python",
   "name": "python",
   "nbconvert_exporter": "python",
   "pygments_lexer": "ipython2",
   "version": "2.7.6"
  }
 },
 "nbformat": 4,
 "nbformat_minor": 5
}
