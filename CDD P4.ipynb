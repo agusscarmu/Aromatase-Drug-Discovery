{
 "cells": [
  {
   "cell_type": "markdown",
   "source": [
    "# PART 4\n",
    "---"
   ],
   "metadata": {
    "collapsed": false
   },
   "id": "a83edf5726ec9e71"
  },
  {
   "cell_type": "code",
   "execution_count": 1,
   "outputs": [],
   "source": [
    "import pandas as pd\n",
    "import seaborn as sns\n",
    "from sklearn.model_selection import train_test_split\n",
    "from sklearn.ensemble import RandomForestRegressor"
   ],
   "metadata": {
    "collapsed": false,
    "ExecuteTime": {
     "end_time": "2024-03-07T16:49:31.153612Z",
     "start_time": "2024-03-07T16:49:30.054183Z"
    }
   },
   "id": "47b4ad7f570e34eb"
  },
  {
   "cell_type": "code",
   "execution_count": 2,
   "outputs": [],
   "source": [
    "df = pd.read_csv('bioactivity_data_pIC50_after_PaDEL_descriptors.csv')"
   ],
   "metadata": {
    "collapsed": false,
    "ExecuteTime": {
     "end_time": "2024-03-07T16:51:54.115874Z",
     "start_time": "2024-03-07T16:51:54.004113Z"
    }
   },
   "id": "e8dfcb0792462d0e"
  },
  {
   "cell_type": "code",
   "execution_count": 3,
   "outputs": [
    {
     "data": {
      "text/plain": "      PubchemFP0  PubchemFP1  PubchemFP2  PubchemFP3  PubchemFP4  PubchemFP5  \\\n0              1           1           0           0           0           0   \n1              1           1           1           0           0           0   \n2              1           1           0           0           0           0   \n3              1           1           1           0           0           0   \n4              1           1           0           0           0           0   \n...          ...         ...         ...         ...         ...         ...   \n1468           1           1           0           0           0           0   \n1469           1           1           1           0           0           0   \n1470           1           1           0           0           0           0   \n1471           1           1           1           0           0           0   \n1472           1           1           1           0           0           0   \n\n      PubchemFP6  PubchemFP7  PubchemFP8  PubchemFP9  ...  PubchemFP871  \\\n0              0           0           0           1  ...             0   \n1              0           0           0           1  ...             0   \n2              0           0           0           1  ...             0   \n3              0           0           0           1  ...             0   \n4              0           0           0           1  ...             0   \n...          ...         ...         ...         ...  ...           ...   \n1468           0           0           0           1  ...             0   \n1469           0           0           0           1  ...             0   \n1470           0           0           0           1  ...             0   \n1471           0           0           0           1  ...             0   \n1472           0           0           0           1  ...             0   \n\n      PubchemFP872  PubchemFP873  PubchemFP874  PubchemFP875  PubchemFP876  \\\n0                0             0             0             0             0   \n1                0             0             0             0             0   \n2                0             0             0             0             0   \n3                0             0             0             0             0   \n4                0             0             0             0             0   \n...            ...           ...           ...           ...           ...   \n1468             0             0             0             0             0   \n1469             0             0             0             0             0   \n1470             0             0             0             0             0   \n1471             0             0             0             0             0   \n1472             0             0             0             0             0   \n\n      PubchemFP877  PubchemFP878  PubchemFP879  PubchemFP880  \n0                0             0             0             0  \n1                0             0             0             0  \n2                0             0             0             0  \n3                0             0             0             0  \n4                0             0             0             0  \n...            ...           ...           ...           ...  \n1468             0             0             0             0  \n1469             0             0             0             0  \n1470             0             0             0             0  \n1471             0             0             0             0  \n1472             0             0             0             0  \n\n[1473 rows x 881 columns]",
      "text/html": "<div>\n<style scoped>\n    .dataframe tbody tr th:only-of-type {\n        vertical-align: middle;\n    }\n\n    .dataframe tbody tr th {\n        vertical-align: top;\n    }\n\n    .dataframe thead th {\n        text-align: right;\n    }\n</style>\n<table border=\"1\" class=\"dataframe\">\n  <thead>\n    <tr style=\"text-align: right;\">\n      <th></th>\n      <th>PubchemFP0</th>\n      <th>PubchemFP1</th>\n      <th>PubchemFP2</th>\n      <th>PubchemFP3</th>\n      <th>PubchemFP4</th>\n      <th>PubchemFP5</th>\n      <th>PubchemFP6</th>\n      <th>PubchemFP7</th>\n      <th>PubchemFP8</th>\n      <th>PubchemFP9</th>\n      <th>...</th>\n      <th>PubchemFP871</th>\n      <th>PubchemFP872</th>\n      <th>PubchemFP873</th>\n      <th>PubchemFP874</th>\n      <th>PubchemFP875</th>\n      <th>PubchemFP876</th>\n      <th>PubchemFP877</th>\n      <th>PubchemFP878</th>\n      <th>PubchemFP879</th>\n      <th>PubchemFP880</th>\n    </tr>\n  </thead>\n  <tbody>\n    <tr>\n      <th>0</th>\n      <td>1</td>\n      <td>1</td>\n      <td>0</td>\n      <td>0</td>\n      <td>0</td>\n      <td>0</td>\n      <td>0</td>\n      <td>0</td>\n      <td>0</td>\n      <td>1</td>\n      <td>...</td>\n      <td>0</td>\n      <td>0</td>\n      <td>0</td>\n      <td>0</td>\n      <td>0</td>\n      <td>0</td>\n      <td>0</td>\n      <td>0</td>\n      <td>0</td>\n      <td>0</td>\n    </tr>\n    <tr>\n      <th>1</th>\n      <td>1</td>\n      <td>1</td>\n      <td>1</td>\n      <td>0</td>\n      <td>0</td>\n      <td>0</td>\n      <td>0</td>\n      <td>0</td>\n      <td>0</td>\n      <td>1</td>\n      <td>...</td>\n      <td>0</td>\n      <td>0</td>\n      <td>0</td>\n      <td>0</td>\n      <td>0</td>\n      <td>0</td>\n      <td>0</td>\n      <td>0</td>\n      <td>0</td>\n      <td>0</td>\n    </tr>\n    <tr>\n      <th>2</th>\n      <td>1</td>\n      <td>1</td>\n      <td>0</td>\n      <td>0</td>\n      <td>0</td>\n      <td>0</td>\n      <td>0</td>\n      <td>0</td>\n      <td>0</td>\n      <td>1</td>\n      <td>...</td>\n      <td>0</td>\n      <td>0</td>\n      <td>0</td>\n      <td>0</td>\n      <td>0</td>\n      <td>0</td>\n      <td>0</td>\n      <td>0</td>\n      <td>0</td>\n      <td>0</td>\n    </tr>\n    <tr>\n      <th>3</th>\n      <td>1</td>\n      <td>1</td>\n      <td>1</td>\n      <td>0</td>\n      <td>0</td>\n      <td>0</td>\n      <td>0</td>\n      <td>0</td>\n      <td>0</td>\n      <td>1</td>\n      <td>...</td>\n      <td>0</td>\n      <td>0</td>\n      <td>0</td>\n      <td>0</td>\n      <td>0</td>\n      <td>0</td>\n      <td>0</td>\n      <td>0</td>\n      <td>0</td>\n      <td>0</td>\n    </tr>\n    <tr>\n      <th>4</th>\n      <td>1</td>\n      <td>1</td>\n      <td>0</td>\n      <td>0</td>\n      <td>0</td>\n      <td>0</td>\n      <td>0</td>\n      <td>0</td>\n      <td>0</td>\n      <td>1</td>\n      <td>...</td>\n      <td>0</td>\n      <td>0</td>\n      <td>0</td>\n      <td>0</td>\n      <td>0</td>\n      <td>0</td>\n      <td>0</td>\n      <td>0</td>\n      <td>0</td>\n      <td>0</td>\n    </tr>\n    <tr>\n      <th>...</th>\n      <td>...</td>\n      <td>...</td>\n      <td>...</td>\n      <td>...</td>\n      <td>...</td>\n      <td>...</td>\n      <td>...</td>\n      <td>...</td>\n      <td>...</td>\n      <td>...</td>\n      <td>...</td>\n      <td>...</td>\n      <td>...</td>\n      <td>...</td>\n      <td>...</td>\n      <td>...</td>\n      <td>...</td>\n      <td>...</td>\n      <td>...</td>\n      <td>...</td>\n      <td>...</td>\n    </tr>\n    <tr>\n      <th>1468</th>\n      <td>1</td>\n      <td>1</td>\n      <td>0</td>\n      <td>0</td>\n      <td>0</td>\n      <td>0</td>\n      <td>0</td>\n      <td>0</td>\n      <td>0</td>\n      <td>1</td>\n      <td>...</td>\n      <td>0</td>\n      <td>0</td>\n      <td>0</td>\n      <td>0</td>\n      <td>0</td>\n      <td>0</td>\n      <td>0</td>\n      <td>0</td>\n      <td>0</td>\n      <td>0</td>\n    </tr>\n    <tr>\n      <th>1469</th>\n      <td>1</td>\n      <td>1</td>\n      <td>1</td>\n      <td>0</td>\n      <td>0</td>\n      <td>0</td>\n      <td>0</td>\n      <td>0</td>\n      <td>0</td>\n      <td>1</td>\n      <td>...</td>\n      <td>0</td>\n      <td>0</td>\n      <td>0</td>\n      <td>0</td>\n      <td>0</td>\n      <td>0</td>\n      <td>0</td>\n      <td>0</td>\n      <td>0</td>\n      <td>0</td>\n    </tr>\n    <tr>\n      <th>1470</th>\n      <td>1</td>\n      <td>1</td>\n      <td>0</td>\n      <td>0</td>\n      <td>0</td>\n      <td>0</td>\n      <td>0</td>\n      <td>0</td>\n      <td>0</td>\n      <td>1</td>\n      <td>...</td>\n      <td>0</td>\n      <td>0</td>\n      <td>0</td>\n      <td>0</td>\n      <td>0</td>\n      <td>0</td>\n      <td>0</td>\n      <td>0</td>\n      <td>0</td>\n      <td>0</td>\n    </tr>\n    <tr>\n      <th>1471</th>\n      <td>1</td>\n      <td>1</td>\n      <td>1</td>\n      <td>0</td>\n      <td>0</td>\n      <td>0</td>\n      <td>0</td>\n      <td>0</td>\n      <td>0</td>\n      <td>1</td>\n      <td>...</td>\n      <td>0</td>\n      <td>0</td>\n      <td>0</td>\n      <td>0</td>\n      <td>0</td>\n      <td>0</td>\n      <td>0</td>\n      <td>0</td>\n      <td>0</td>\n      <td>0</td>\n    </tr>\n    <tr>\n      <th>1472</th>\n      <td>1</td>\n      <td>1</td>\n      <td>1</td>\n      <td>0</td>\n      <td>0</td>\n      <td>0</td>\n      <td>0</td>\n      <td>0</td>\n      <td>0</td>\n      <td>1</td>\n      <td>...</td>\n      <td>0</td>\n      <td>0</td>\n      <td>0</td>\n      <td>0</td>\n      <td>0</td>\n      <td>0</td>\n      <td>0</td>\n      <td>0</td>\n      <td>0</td>\n      <td>0</td>\n    </tr>\n  </tbody>\n</table>\n<p>1473 rows × 881 columns</p>\n</div>"
     },
     "execution_count": 3,
     "metadata": {},
     "output_type": "execute_result"
    }
   ],
   "source": [
    "X = df.drop('pIC50', axis=1)\n",
    "X"
   ],
   "metadata": {
    "collapsed": false,
    "ExecuteTime": {
     "end_time": "2024-03-07T16:52:13.855753Z",
     "start_time": "2024-03-07T16:52:13.823001Z"
    }
   },
   "id": "bedb1dc40dc90293"
  },
  {
   "cell_type": "code",
   "execution_count": 4,
   "outputs": [
    {
     "data": {
      "text/plain": "0       5.148736\n1       4.301029\n2       5.267598\n3       5.180449\n4       4.292429\n          ...   \n1468    4.999996\n1469    5.721224\n1470    5.999957\n1471    5.999957\n1472    4.999996\nName: pIC50, Length: 1473, dtype: float64"
     },
     "execution_count": 4,
     "metadata": {},
     "output_type": "execute_result"
    }
   ],
   "source": [
    "Y = df.pIC50\n",
    "Y"
   ],
   "metadata": {
    "collapsed": false,
    "ExecuteTime": {
     "end_time": "2024-03-07T16:54:00.074383Z",
     "start_time": "2024-03-07T16:54:00.055302Z"
    }
   },
   "id": "3f647159723fc1f4"
  },
  {
   "cell_type": "code",
   "execution_count": 5,
   "outputs": [
    {
     "data": {
      "text/plain": "(1473, 881)"
     },
     "execution_count": 5,
     "metadata": {},
     "output_type": "execute_result"
    }
   ],
   "source": [
    "X.shape"
   ],
   "metadata": {
    "collapsed": false,
    "ExecuteTime": {
     "end_time": "2024-03-07T16:54:11.422027Z",
     "start_time": "2024-03-07T16:54:11.401488Z"
    }
   },
   "id": "965b39a638b22f40"
  },
  {
   "cell_type": "code",
   "execution_count": 6,
   "outputs": [
    {
     "data": {
      "text/plain": "(1473,)"
     },
     "execution_count": 6,
     "metadata": {},
     "output_type": "execute_result"
    }
   ],
   "source": [
    "Y.shape"
   ],
   "metadata": {
    "collapsed": false,
    "ExecuteTime": {
     "end_time": "2024-03-07T16:54:14.867960Z",
     "start_time": "2024-03-07T16:54:14.854370Z"
    }
   },
   "id": "806205584f5f51ac"
  },
  {
   "cell_type": "markdown",
   "source": [
    "Reducir la dimensionalidad del conjunto de datos y eliminar características que no aportan mucha información debido a su falta de variabilidad."
   ],
   "metadata": {
    "collapsed": false
   },
   "id": "be46225f01e04732"
  },
  {
   "cell_type": "code",
   "execution_count": 8,
   "outputs": [],
   "source": [
    "from sklearn.feature_selection import VarianceThreshold\n",
    "selection = VarianceThreshold(threshold=(.8*(1-.8)))\n",
    "X = selection.fit_transform(X)"
   ],
   "metadata": {
    "collapsed": false,
    "ExecuteTime": {
     "end_time": "2024-03-07T16:56:25.697146Z",
     "start_time": "2024-03-07T16:56:25.667702Z"
    }
   },
   "id": "fb75ecc0d12eacbb"
  },
  {
   "cell_type": "code",
   "execution_count": 9,
   "outputs": [
    {
     "data": {
      "text/plain": "(1473, 154)"
     },
     "execution_count": 9,
     "metadata": {},
     "output_type": "execute_result"
    }
   ],
   "source": [
    "X.shape"
   ],
   "metadata": {
    "collapsed": false,
    "ExecuteTime": {
     "end_time": "2024-03-07T16:56:29.976819Z",
     "start_time": "2024-03-07T16:56:29.966812Z"
    }
   },
   "id": "58c7638c1bb5bd8e"
  },
  {
   "cell_type": "code",
   "execution_count": 67,
   "outputs": [],
   "source": [
    "X_train, X_test, Y_train, Y_test = train_test_split(X,Y,test_size=0.2)"
   ],
   "metadata": {
    "collapsed": false,
    "ExecuteTime": {
     "end_time": "2024-03-07T17:36:09.902468Z",
     "start_time": "2024-03-07T17:36:09.876843Z"
    }
   },
   "id": "4f125f1660b9dd7c"
  },
  {
   "cell_type": "code",
   "execution_count": 68,
   "outputs": [
    {
     "data": {
      "text/plain": "((1178, 154), (1178,))"
     },
     "execution_count": 68,
     "metadata": {},
     "output_type": "execute_result"
    }
   ],
   "source": [
    "X_train.shape, Y_train.shape"
   ],
   "metadata": {
    "collapsed": false,
    "ExecuteTime": {
     "end_time": "2024-03-07T17:36:10.155748Z",
     "start_time": "2024-03-07T17:36:10.146905Z"
    }
   },
   "id": "2b7ba0d69ba9c82c"
  },
  {
   "cell_type": "code",
   "execution_count": 69,
   "outputs": [
    {
     "data": {
      "text/plain": "((295, 154), (295,))"
     },
     "execution_count": 69,
     "metadata": {},
     "output_type": "execute_result"
    }
   ],
   "source": [
    "X_test.shape, Y_test.shape"
   ],
   "metadata": {
    "collapsed": false,
    "ExecuteTime": {
     "end_time": "2024-03-07T17:36:10.479117Z",
     "start_time": "2024-03-07T17:36:10.468728Z"
    }
   },
   "id": "db2915a5dab7c117"
  },
  {
   "cell_type": "markdown",
   "source": [
    "### Crear el modelo de regresión (Random Forest)"
   ],
   "metadata": {
    "collapsed": false
   },
   "id": "e62d19086231868b"
  },
  {
   "cell_type": "code",
   "execution_count": 72,
   "outputs": [
    {
     "data": {
      "text/plain": "0.03770603598411071"
     },
     "execution_count": 72,
     "metadata": {},
     "output_type": "execute_result"
    }
   ],
   "source": [
    "model = RandomForestRegressor(n_estimators=100)\n",
    "model.fit(X_train, Y_train)\n",
    "r2 = model.score(X_test, Y_test)\n",
    "r2"
   ],
   "metadata": {
    "collapsed": false,
    "ExecuteTime": {
     "end_time": "2024-03-07T17:36:21.712155Z",
     "start_time": "2024-03-07T17:36:21.017733Z"
    }
   },
   "id": "25e52f1b6ed9fb9f"
  },
  {
   "cell_type": "code",
   "execution_count": 73,
   "outputs": [],
   "source": [
    "Y_pred = model.predict(X_test)"
   ],
   "metadata": {
    "collapsed": false,
    "ExecuteTime": {
     "end_time": "2024-03-07T17:36:22.262896Z",
     "start_time": "2024-03-07T17:36:22.244222Z"
    }
   },
   "id": "61daf6b97ddfc797"
  },
  {
   "cell_type": "code",
   "execution_count": 74,
   "outputs": [
    {
     "data": {
      "text/plain": "array([5.02072739, 5.92808146, 4.79207303, 4.80135987, 5.01333564,\n       5.60096188, 4.928565  , 4.79576438, 4.92623444, 5.43019319,\n       5.14552289, 5.48844319, 5.45261833, 4.891395  , 5.39113568,\n       5.45261833, 4.79207303, 4.91806238, 4.40008501, 5.34801451,\n       5.47574281, 4.99405162, 5.05125478, 4.80333224, 4.84713427,\n       5.52822076, 5.53435647, 5.4303767 , 5.5950483 , 5.37674517,\n       5.59938576, 4.40008501, 4.95341435, 5.73221505, 5.10695539,\n       5.37819849, 4.76718994, 5.46665602, 5.04269604, 5.29729112,\n       5.04421687, 4.20065687, 4.72232055, 5.45374049, 4.60967322,\n       4.88874772, 5.14861699, 4.79207303, 5.49545189, 4.91806238,\n       4.63471352, 5.31232681, 5.32844875, 5.23856136, 5.0621672 ,\n       5.36068493, 3.13668848, 5.39664451, 4.89168999, 5.02262137,\n       4.52717265, 4.56553051, 5.47626667, 3.8204882 , 5.37674517,\n       4.9321631 , 4.40008501, 5.38850678, 4.91806238, 5.30156192,\n       4.73963148, 5.34846166, 4.77715384, 5.47194782, 4.56519039,\n       5.08469137, 5.11913362, 5.55428444, 4.79158328, 5.30156192,\n       5.23856136, 5.84229039, 5.06166338, 5.45261833, 5.0621672 ,\n       4.40008501, 5.05277438, 4.9637929 , 4.72595472, 5.10695539,\n       5.27308289, 4.99764018, 4.20065687, 5.81124896, 5.4453812 ,\n       5.47452526, 5.2781385 , 4.85915229, 4.7358626 , 5.10199033,\n       4.40008501, 5.08294643, 5.3015919 , 5.16955472, 5.14903093,\n       5.1081783 , 4.74465173, 5.35341881, 4.91806238, 4.55480205,\n       4.74785858, 5.13546751, 2.26181944, 4.91806238, 5.06561182,\n       5.19263115, 5.3372071 , 4.86181178, 4.82940599, 5.0558445 ,\n       4.01421265, 5.617537  , 5.03975747, 4.89587943, 5.10199033,\n       5.18038613, 5.47194782, 4.67171024, 5.617537  , 5.48851997,\n       4.99533661, 4.52503532, 5.43008127, 4.22018798, 5.10878966,\n       5.07665137, 5.57182422, 5.59938576, 4.30782284, 5.06136055,\n       4.82940599, 5.32548455, 4.92637606, 5.35543143, 3.04014486,\n       4.48546359, 4.40008501, 4.9321631 , 5.73221505, 4.91806238,\n       5.20826648, 4.81756258, 5.21418281, 3.04014486, 5.00114401,\n       4.91806238, 5.08743976, 4.88561163, 4.92732747, 5.25975972,\n       4.83785729, 5.14080311, 4.93634204, 4.70266895, 5.49620307,\n       4.80382998, 4.09368327, 4.99405162, 4.98631013, 4.73489787,\n       5.08077964, 5.37676902, 4.40008501, 5.20826648, 4.26268614,\n       4.52999533, 5.45365739, 5.47194782, 5.24519964, 5.50303182,\n       5.37811279, 4.99244304, 5.24395723, 4.67719541, 4.70266895,\n       4.36828724, 4.91048118, 4.97858377, 5.10108697, 5.41932159,\n       5.16333669, 5.0558445 , 4.34458163, 4.40336157, 5.26364112,\n       5.60096188, 4.91806238, 4.32931801, 5.0454402 , 5.84229039,\n       5.84832037, 5.06696433, 5.44892133, 5.47194782, 4.36041102,\n       4.30419522, 4.91081666, 5.24954097, 5.49545189, 4.57849017,\n       5.29295574, 5.43019319, 4.99575523, 4.40008501, 5.11913362,\n       4.91806238, 5.00186512, 5.49228663, 3.89929075, 4.67407714,\n       5.21115165, 5.20691866, 5.23993323, 5.29886515, 4.99999566,\n       5.64203918, 4.40336157, 4.16896681, 4.52999533, 4.91806238,\n       4.91806238, 5.60560214, 4.18254167, 4.44797803, 4.40008501,\n       4.2889791 , 4.99244304, 4.47680079, 5.10316819, 4.91085795,\n       4.7526525 , 5.35543143, 5.49545189, 5.1493206 , 4.46431445,\n       4.88422819, 5.13143767, 4.99603898, 5.1490438 , 5.20031153,\n       5.52132329, 4.88662885, 5.0621672 , 4.90518504, 5.50534712,\n       5.20181402, 5.34892224, 4.99603898, 5.25012938, 5.60539428,\n       4.67719541, 5.66391298, 5.29886515, 4.78125833, 4.74317673,\n       3.13668848, 5.20048432, 5.67775335, 5.05333898, 5.51726227,\n       4.52999533, 5.12369891, 4.78350833, 4.44463204, 5.40129316,\n       4.93665385, 5.11803963, 5.47194782, 4.18254167, 5.19612277,\n       5.49228663, 5.04797891, 5.47452526, 4.5833244 , 5.29903326,\n       4.55480205, 5.2405849 , 5.12745114, 4.91806238, 5.27444609,\n       5.30156192, 4.83105315, 5.02142893, 5.47194782, 4.99244304])"
     },
     "execution_count": 74,
     "metadata": {},
     "output_type": "execute_result"
    }
   ],
   "source": [
    "Y_pred"
   ],
   "metadata": {
    "collapsed": false,
    "ExecuteTime": {
     "end_time": "2024-03-07T17:36:22.820407Z",
     "start_time": "2024-03-07T17:36:22.814944Z"
    }
   },
   "id": "5617d31c47d1b5d8"
  },
  {
   "cell_type": "markdown",
   "source": [
    "### Scatter Plot Experimental vs valores pIC50 "
   ],
   "metadata": {
    "collapsed": false
   },
   "id": "f5882bd34c5e28e0"
  },
  {
   "cell_type": "code",
   "execution_count": 75,
   "outputs": [
    {
     "data": {
      "text/plain": "<function matplotlib.pyplot.show(close=None, block=None)>"
     },
     "execution_count": 75,
     "metadata": {},
     "output_type": "execute_result"
    },
    {
     "data": {
      "text/plain": "<Figure size 500x500 with 1 Axes>",
      "image/png": "[encoded data removed]"
     },
     "metadata": {},
     "output_type": "display_data"
    }
   ],
   "source": [
    "import matplotlib.pyplot as plt\n",
    "\n",
    "sns.set(color_codes = True)\n",
    "sns.set_style(\"white\")\n",
    "\n",
    "ax = sns.regplot(x=Y_test, y=Y_pred, scatter_kws={'alpha':0.4})\n",
    "ax.set_xlabel('Experimental pIC50', fontsize='large', fontweight='bold')\n",
    "ax.set_ylabel('Predicted pIC50', fontsize='large', fontweight='bold')\n",
    "ax.set_xlim(0,12)\n",
    "ax.set_ylim(0,12)\n",
    "ax.figure.set_size_inches(5,5)\n",
    "\n",
    "plt.show"
   ],
   "metadata": {
    "collapsed": false,
    "ExecuteTime": {
     "end_time": "2024-03-07T17:36:24.236266Z",
     "start_time": "2024-03-07T17:36:24.097111Z"
    }
   },
   "id": "f29d9e8fbb1bea03"
  },
  {
   "cell_type": "code",
   "execution_count": null,
   "outputs": [],
   "source": [],
   "metadata": {
    "collapsed": false
   },
   "id": "56f0291a9d3cf513"
  }
 ],
 "metadata": {
  "kernelspec": {
   "display_name": "Python 3",
   "language": "python",
   "name": "python3"
  },
  "language_info": {
   "codemirror_mode": {
    "name": "ipython",
    "version": 2
   },
   "file_extension": ".py",
   "mimetype": "text/x-python",
   "name": "python",
   "nbconvert_exporter": "python",
   "pygments_lexer": "ipython2",
   "version": "2.7.6"
  }
 },
 "nbformat": 4,
 "nbformat_minor": 5
}
