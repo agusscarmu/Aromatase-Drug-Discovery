{
 "cells": [
  {
   "cell_type": "markdown",
   "source": [
    "# PART 4\n",
    "---"
   ],
   "metadata": {
    "collapsed": false
   },
   "id": "a83edf5726ec9e71"
  },
  {
   "cell_type": "code",
   "execution_count": 124,
   "outputs": [
    {
     "name": "stdout",
     "output_type": "stream",
     "text": [
      "Requirement already satisfied: scikit-learn in /Users/agustincarmusciano/anaconda3/lib/python3.11/site-packages (1.3.2)\r\n",
      "Requirement already satisfied: numpy<2.0,>=1.17.3 in /Users/agustincarmusciano/anaconda3/lib/python3.11/site-packages (from scikit-learn) (1.24.3)\r\n",
      "Requirement already satisfied: scipy>=1.5.0 in /Users/agustincarmusciano/anaconda3/lib/python3.11/site-packages (from scikit-learn) (1.11.1)\r\n",
      "Requirement already satisfied: joblib>=1.1.1 in /Users/agustincarmusciano/anaconda3/lib/python3.11/site-packages (from scikit-learn) (1.3.2)\r\n",
      "Requirement already satisfied: threadpoolctl>=2.0.0 in /Users/agustincarmusciano/anaconda3/lib/python3.11/site-packages (from scikit-learn) (2.2.0)\r\n"
     ]
    }
   ],
   "source": [
    "!pip install scikit-learn"
   ],
   "metadata": {
    "collapsed": false,
    "ExecuteTime": {
     "end_time": "2024-03-08T02:15:06.226255Z",
     "start_time": "2024-03-08T02:15:02.661628Z"
    }
   },
   "id": "273085741d3bdc51"
  },
  {
   "cell_type": "code",
   "execution_count": 1,
   "outputs": [],
   "source": [
    "import pandas as pd\n",
    "import seaborn as sns\n",
    "from sklearn.model_selection import train_test_split\n",
    "from sklearn.ensemble import RandomForestRegressor"
   ],
   "metadata": {
    "collapsed": false,
    "ExecuteTime": {
     "end_time": "2024-03-08T02:37:31.238838Z",
     "start_time": "2024-03-08T02:37:30.947648Z"
    }
   },
   "id": "47b4ad7f570e34eb"
  },
  {
   "cell_type": "code",
   "execution_count": 2,
   "outputs": [],
   "source": [
    "df = pd.read_csv('bioactivity_data_pIC50_after_PaDEL_descriptors.csv')"
   ],
   "metadata": {
    "collapsed": false,
    "ExecuteTime": {
     "end_time": "2024-03-08T02:37:31.319196Z",
     "start_time": "2024-03-08T02:37:31.239244Z"
    }
   },
   "id": "e8dfcb0792462d0e"
  },
  {
   "cell_type": "code",
   "execution_count": 3,
   "outputs": [
    {
     "data": {
      "text/plain": "      PubchemFP0  PubchemFP1  PubchemFP2  PubchemFP3  PubchemFP4  PubchemFP5  \\\n0              1           1           0           0           0           0   \n1              1           1           1           0           0           0   \n2              1           1           0           0           0           0   \n3              1           1           1           0           0           0   \n4              1           1           0           0           0           0   \n...          ...         ...         ...         ...         ...         ...   \n1468           1           1           0           0           0           0   \n1469           1           1           1           0           0           0   \n1470           1           1           0           0           0           0   \n1471           1           1           1           0           0           0   \n1472           1           1           1           0           0           0   \n\n      PubchemFP6  PubchemFP7  PubchemFP8  PubchemFP9  ...  PubchemFP871  \\\n0              0           0           0           1  ...             0   \n1              0           0           0           1  ...             0   \n2              0           0           0           1  ...             0   \n3              0           0           0           1  ...             0   \n4              0           0           0           1  ...             0   \n...          ...         ...         ...         ...  ...           ...   \n1468           0           0           0           1  ...             0   \n1469           0           0           0           1  ...             0   \n1470           0           0           0           1  ...             0   \n1471           0           0           0           1  ...             0   \n1472           0           0           0           1  ...             0   \n\n      PubchemFP872  PubchemFP873  PubchemFP874  PubchemFP875  PubchemFP876  \\\n0                0             0             0             0             0   \n1                0             0             0             0             0   \n2                0             0             0             0             0   \n3                0             0             0             0             0   \n4                0             0             0             0             0   \n...            ...           ...           ...           ...           ...   \n1468             0             0             0             0             0   \n1469             0             0             0             0             0   \n1470             0             0             0             0             0   \n1471             0             0             0             0             0   \n1472             0             0             0             0             0   \n\n      PubchemFP877  PubchemFP878  PubchemFP879  PubchemFP880  \n0                0             0             0             0  \n1                0             0             0             0  \n2                0             0             0             0  \n3                0             0             0             0  \n4                0             0             0             0  \n...            ...           ...           ...           ...  \n1468             0             0             0             0  \n1469             0             0             0             0  \n1470             0             0             0             0  \n1471             0             0             0             0  \n1472             0             0             0             0  \n\n[1473 rows x 881 columns]",
      "text/html": "<div>\n<style scoped>\n    .dataframe tbody tr th:only-of-type {\n        vertical-align: middle;\n    }\n\n    .dataframe tbody tr th {\n        vertical-align: top;\n    }\n\n    .dataframe thead th {\n        text-align: right;\n    }\n</style>\n<table border=\"1\" class=\"dataframe\">\n  <thead>\n    <tr style=\"text-align: right;\">\n      <th></th>\n      <th>PubchemFP0</th>\n      <th>PubchemFP1</th>\n      <th>PubchemFP2</th>\n      <th>PubchemFP3</th>\n      <th>PubchemFP4</th>\n      <th>PubchemFP5</th>\n      <th>PubchemFP6</th>\n      <th>PubchemFP7</th>\n      <th>PubchemFP8</th>\n      <th>PubchemFP9</th>\n      <th>...</th>\n      <th>PubchemFP871</th>\n      <th>PubchemFP872</th>\n      <th>PubchemFP873</th>\n      <th>PubchemFP874</th>\n      <th>PubchemFP875</th>\n      <th>PubchemFP876</th>\n      <th>PubchemFP877</th>\n      <th>PubchemFP878</th>\n      <th>PubchemFP879</th>\n      <th>PubchemFP880</th>\n    </tr>\n  </thead>\n  <tbody>\n    <tr>\n      <th>0</th>\n      <td>1</td>\n      <td>1</td>\n      <td>0</td>\n      <td>0</td>\n      <td>0</td>\n      <td>0</td>\n      <td>0</td>\n      <td>0</td>\n      <td>0</td>\n      <td>1</td>\n      <td>...</td>\n      <td>0</td>\n      <td>0</td>\n      <td>0</td>\n      <td>0</td>\n      <td>0</td>\n      <td>0</td>\n      <td>0</td>\n      <td>0</td>\n      <td>0</td>\n      <td>0</td>\n    </tr>\n    <tr>\n      <th>1</th>\n      <td>1</td>\n      <td>1</td>\n      <td>1</td>\n      <td>0</td>\n      <td>0</td>\n      <td>0</td>\n      <td>0</td>\n      <td>0</td>\n      <td>0</td>\n      <td>1</td>\n      <td>...</td>\n      <td>0</td>\n      <td>0</td>\n      <td>0</td>\n      <td>0</td>\n      <td>0</td>\n      <td>0</td>\n      <td>0</td>\n      <td>0</td>\n      <td>0</td>\n      <td>0</td>\n    </tr>\n    <tr>\n      <th>2</th>\n      <td>1</td>\n      <td>1</td>\n      <td>0</td>\n      <td>0</td>\n      <td>0</td>\n      <td>0</td>\n      <td>0</td>\n      <td>0</td>\n      <td>0</td>\n      <td>1</td>\n      <td>...</td>\n      <td>0</td>\n      <td>0</td>\n      <td>0</td>\n      <td>0</td>\n      <td>0</td>\n      <td>0</td>\n      <td>0</td>\n      <td>0</td>\n      <td>0</td>\n      <td>0</td>\n    </tr>\n    <tr>\n      <th>3</th>\n      <td>1</td>\n      <td>1</td>\n      <td>1</td>\n      <td>0</td>\n      <td>0</td>\n      <td>0</td>\n      <td>0</td>\n      <td>0</td>\n      <td>0</td>\n      <td>1</td>\n      <td>...</td>\n      <td>0</td>\n      <td>0</td>\n      <td>0</td>\n      <td>0</td>\n      <td>0</td>\n      <td>0</td>\n      <td>0</td>\n      <td>0</td>\n      <td>0</td>\n      <td>0</td>\n    </tr>\n    <tr>\n      <th>4</th>\n      <td>1</td>\n      <td>1</td>\n      <td>0</td>\n      <td>0</td>\n      <td>0</td>\n      <td>0</td>\n      <td>0</td>\n      <td>0</td>\n      <td>0</td>\n      <td>1</td>\n      <td>...</td>\n      <td>0</td>\n      <td>0</td>\n      <td>0</td>\n      <td>0</td>\n      <td>0</td>\n      <td>0</td>\n      <td>0</td>\n      <td>0</td>\n      <td>0</td>\n      <td>0</td>\n    </tr>\n    <tr>\n      <th>...</th>\n      <td>...</td>\n      <td>...</td>\n      <td>...</td>\n      <td>...</td>\n      <td>...</td>\n      <td>...</td>\n      <td>...</td>\n      <td>...</td>\n      <td>...</td>\n      <td>...</td>\n      <td>...</td>\n      <td>...</td>\n      <td>...</td>\n      <td>...</td>\n      <td>...</td>\n      <td>...</td>\n      <td>...</td>\n      <td>...</td>\n      <td>...</td>\n      <td>...</td>\n      <td>...</td>\n    </tr>\n    <tr>\n      <th>1468</th>\n      <td>1</td>\n      <td>1</td>\n      <td>0</td>\n      <td>0</td>\n      <td>0</td>\n      <td>0</td>\n      <td>0</td>\n      <td>0</td>\n      <td>0</td>\n      <td>1</td>\n      <td>...</td>\n      <td>0</td>\n      <td>0</td>\n      <td>0</td>\n      <td>0</td>\n      <td>0</td>\n      <td>0</td>\n      <td>0</td>\n      <td>0</td>\n      <td>0</td>\n      <td>0</td>\n    </tr>\n    <tr>\n      <th>1469</th>\n      <td>1</td>\n      <td>1</td>\n      <td>1</td>\n      <td>0</td>\n      <td>0</td>\n      <td>0</td>\n      <td>0</td>\n      <td>0</td>\n      <td>0</td>\n      <td>1</td>\n      <td>...</td>\n      <td>0</td>\n      <td>0</td>\n      <td>0</td>\n      <td>0</td>\n      <td>0</td>\n      <td>0</td>\n      <td>0</td>\n      <td>0</td>\n      <td>0</td>\n      <td>0</td>\n    </tr>\n    <tr>\n      <th>1470</th>\n      <td>1</td>\n      <td>1</td>\n      <td>0</td>\n      <td>0</td>\n      <td>0</td>\n      <td>0</td>\n      <td>0</td>\n      <td>0</td>\n      <td>0</td>\n      <td>1</td>\n      <td>...</td>\n      <td>0</td>\n      <td>0</td>\n      <td>0</td>\n      <td>0</td>\n      <td>0</td>\n      <td>0</td>\n      <td>0</td>\n      <td>0</td>\n      <td>0</td>\n      <td>0</td>\n    </tr>\n    <tr>\n      <th>1471</th>\n      <td>1</td>\n      <td>1</td>\n      <td>1</td>\n      <td>0</td>\n      <td>0</td>\n      <td>0</td>\n      <td>0</td>\n      <td>0</td>\n      <td>0</td>\n      <td>1</td>\n      <td>...</td>\n      <td>0</td>\n      <td>0</td>\n      <td>0</td>\n      <td>0</td>\n      <td>0</td>\n      <td>0</td>\n      <td>0</td>\n      <td>0</td>\n      <td>0</td>\n      <td>0</td>\n    </tr>\n    <tr>\n      <th>1472</th>\n      <td>1</td>\n      <td>1</td>\n      <td>1</td>\n      <td>0</td>\n      <td>0</td>\n      <td>0</td>\n      <td>0</td>\n      <td>0</td>\n      <td>0</td>\n      <td>1</td>\n      <td>...</td>\n      <td>0</td>\n      <td>0</td>\n      <td>0</td>\n      <td>0</td>\n      <td>0</td>\n      <td>0</td>\n      <td>0</td>\n      <td>0</td>\n      <td>0</td>\n      <td>0</td>\n    </tr>\n  </tbody>\n</table>\n<p>1473 rows × 881 columns</p>\n</div>"
     },
     "execution_count": 3,
     "metadata": {},
     "output_type": "execute_result"
    }
   ],
   "source": [
    "X = df.drop('pIC50', axis=1)\n",
    "X"
   ],
   "metadata": {
    "collapsed": false,
    "ExecuteTime": {
     "end_time": "2024-03-08T02:37:32.330574Z",
     "start_time": "2024-03-08T02:37:32.309684Z"
    }
   },
   "id": "bedb1dc40dc90293"
  },
  {
   "cell_type": "code",
   "execution_count": 15,
   "outputs": [],
   "source": [
    "X.to_csv('descriptor_list.csv', index=False)"
   ],
   "metadata": {
    "collapsed": false,
    "ExecuteTime": {
     "end_time": "2024-03-08T03:38:31.206314Z",
     "start_time": "2024-03-08T03:38:30.987070Z"
    }
   },
   "id": "b25000662b66d594"
  },
  {
   "cell_type": "code",
   "execution_count": 4,
   "outputs": [
    {
     "data": {
      "text/plain": "0       5.148736\n1       4.301029\n2       5.267598\n3       5.180449\n4       4.292429\n          ...   \n1468    4.999996\n1469    5.721224\n1470    5.999957\n1471    5.999957\n1472    4.999996\nName: pIC50, Length: 1473, dtype: float64"
     },
     "execution_count": 4,
     "metadata": {},
     "output_type": "execute_result"
    }
   ],
   "source": [
    "Y = df.pIC50\n",
    "Y"
   ],
   "metadata": {
    "collapsed": false,
    "ExecuteTime": {
     "end_time": "2024-03-08T02:37:35.475888Z",
     "start_time": "2024-03-08T02:37:35.465236Z"
    }
   },
   "id": "3f647159723fc1f4"
  },
  {
   "cell_type": "code",
   "execution_count": 91,
   "outputs": [
    {
     "data": {
      "text/plain": "(1473, 881)"
     },
     "execution_count": 91,
     "metadata": {},
     "output_type": "execute_result"
    }
   ],
   "source": [
    "X.shape"
   ],
   "metadata": {
    "collapsed": false,
    "ExecuteTime": {
     "end_time": "2024-03-08T02:11:47.328242Z",
     "start_time": "2024-03-08T02:11:47.302688Z"
    }
   },
   "id": "965b39a638b22f40"
  },
  {
   "cell_type": "code",
   "execution_count": 92,
   "outputs": [
    {
     "data": {
      "text/plain": "(1473,)"
     },
     "execution_count": 92,
     "metadata": {},
     "output_type": "execute_result"
    }
   ],
   "source": [
    "Y.shape"
   ],
   "metadata": {
    "collapsed": false,
    "ExecuteTime": {
     "end_time": "2024-03-08T02:11:48.302753Z",
     "start_time": "2024-03-08T02:11:48.096574Z"
    }
   },
   "id": "806205584f5f51ac"
  },
  {
   "cell_type": "markdown",
   "source": [
    "Reducir la dimensionalidad del conjunto de datos y eliminar características que no aportan mucha información debido a su falta de variabilidad."
   ],
   "metadata": {
    "collapsed": false
   },
   "id": "be46225f01e04732"
  },
  {
   "cell_type": "code",
   "execution_count": 109,
   "outputs": [],
   "source": [
    "from sklearn.feature_selection import VarianceThreshold\n",
    "selection = VarianceThreshold(threshold=(.8*(1-.8)))\n",
    "X = selection.fit_transform(X)"
   ],
   "metadata": {
    "collapsed": false,
    "ExecuteTime": {
     "end_time": "2024-03-08T02:12:59.947195Z",
     "start_time": "2024-03-08T02:12:59.933773Z"
    }
   },
   "id": "fb75ecc0d12eacbb"
  },
  {
   "cell_type": "code",
   "execution_count": 110,
   "outputs": [
    {
     "data": {
      "text/plain": "(1473, 154)"
     },
     "execution_count": 110,
     "metadata": {},
     "output_type": "execute_result"
    }
   ],
   "source": [
    "X.shape"
   ],
   "metadata": {
    "collapsed": false,
    "ExecuteTime": {
     "end_time": "2024-03-08T02:13:00.165451Z",
     "start_time": "2024-03-08T02:13:00.153655Z"
    }
   },
   "id": "58c7638c1bb5bd8e"
  },
  {
   "cell_type": "code",
   "execution_count": null,
   "outputs": [],
   "source": [],
   "metadata": {
    "collapsed": false
   },
   "id": "cb15d59b080f8f05"
  },
  {
   "cell_type": "code",
   "execution_count": 5,
   "outputs": [],
   "source": [
    "X_train, X_test, Y_train, Y_test = train_test_split(X,Y,test_size=0.2)"
   ],
   "metadata": {
    "collapsed": false,
    "ExecuteTime": {
     "end_time": "2024-03-08T02:37:40.032678Z",
     "start_time": "2024-03-08T02:37:40.030729Z"
    }
   },
   "id": "4f125f1660b9dd7c"
  },
  {
   "cell_type": "code",
   "execution_count": 6,
   "outputs": [
    {
     "data": {
      "text/plain": "((1178, 881), (1178,))"
     },
     "execution_count": 6,
     "metadata": {},
     "output_type": "execute_result"
    }
   ],
   "source": [
    "X_train.shape, Y_train.shape"
   ],
   "metadata": {
    "collapsed": false,
    "ExecuteTime": {
     "end_time": "2024-03-08T02:37:40.686552Z",
     "start_time": "2024-03-08T02:37:40.673596Z"
    }
   },
   "id": "2b7ba0d69ba9c82c"
  },
  {
   "cell_type": "code",
   "execution_count": 7,
   "outputs": [
    {
     "data": {
      "text/plain": "((295, 881), (295,))"
     },
     "execution_count": 7,
     "metadata": {},
     "output_type": "execute_result"
    }
   ],
   "source": [
    "X_test.shape, Y_test.shape"
   ],
   "metadata": {
    "collapsed": false,
    "ExecuteTime": {
     "end_time": "2024-03-08T02:37:42.113440Z",
     "start_time": "2024-03-08T02:37:42.103676Z"
    }
   },
   "id": "db2915a5dab7c117"
  },
  {
   "cell_type": "markdown",
   "source": [
    "### Crear el modelo de regresión (Random Forest)"
   ],
   "metadata": {
    "collapsed": false
   },
   "id": "e62d19086231868b"
  },
  {
   "cell_type": "code",
   "execution_count": 8,
   "outputs": [
    {
     "data": {
      "text/plain": "0.016060423614377872"
     },
     "execution_count": 8,
     "metadata": {},
     "output_type": "execute_result"
    }
   ],
   "source": [
    "model = RandomForestRegressor(n_estimators=1000)\n",
    "model.fit(X_train, Y_train)\n",
    "r2 = model.score(X_test, Y_test)\n",
    "r2"
   ],
   "metadata": {
    "collapsed": false,
    "ExecuteTime": {
     "end_time": "2024-03-08T02:38:16.082113Z",
     "start_time": "2024-03-08T02:37:43.839392Z"
    }
   },
   "id": "25e52f1b6ed9fb9f"
  },
  {
   "cell_type": "code",
   "execution_count": 9,
   "outputs": [],
   "source": [
    "Y_pred = model.predict(X_test)"
   ],
   "metadata": {
    "collapsed": false,
    "ExecuteTime": {
     "end_time": "2024-03-08T02:38:17.928760Z",
     "start_time": "2024-03-08T02:38:17.829633Z"
    }
   },
   "id": "61daf6b97ddfc797"
  },
  {
   "cell_type": "code",
   "execution_count": 10,
   "outputs": [
    {
     "data": {
      "text/plain": "array([4.31333815, 5.00647161, 4.17536888, 5.21318195, 5.06577019,\n       4.87189314, 4.97193418, 4.87189314, 4.82864759, 5.24029949,\n       4.78475775, 5.44886398, 4.87327281, 5.50672766, 5.40471159,\n       4.81203085, 5.74509321, 5.25795151, 3.65874541, 5.3918539 ,\n       4.87189314, 4.88299905, 5.59728345, 4.46747441, 5.4463738 ,\n       5.4534615 , 5.01853873, 5.26882364, 4.77040074, 5.64817162,\n       5.30089087, 4.76252257, 5.38049382, 5.26882364, 5.1591866 ,\n       5.30979089, 5.41653776, 5.01323752, 4.22631972, 4.87189314,\n       5.59653387, 4.82831859, 5.50055987, 4.46747441, 5.02451041,\n       4.30332836, 4.60184779, 3.95812154, 5.48362904, 5.4543084 ,\n       5.13346838, 4.3022007 , 5.19878213, 5.79799659, 4.6108492 ,\n       5.32412056, 4.16459159, 5.42615823, 5.04889458, 4.3102201 ,\n       4.84541423, 5.60901695, 4.30755933, 3.94458315, 4.81272178,\n       4.66124446, 4.94107736, 4.83332704, 5.73133125, 5.58444699,\n       5.70369209, 3.95522288, 4.63652258, 5.48854864, 4.99324902,\n       5.58193574, 4.88089052, 5.3361986 , 4.9608115 , 4.69336234,\n       4.99568561, 3.2582978 , 4.9513182 , 5.10201551, 5.14535478,\n       4.24139771, 5.03941842, 4.46747441, 4.87189314, 4.16459159,\n       4.85847128, 5.08688625, 4.86478631, 4.86338043, 5.4734616 ,\n       5.15568192, 5.19572631, 4.86338043, 5.70204206, 4.96955874,\n       5.37320048, 4.87189314, 4.81833099, 5.83394196, 5.10426176,\n       5.53903355, 4.37251334, 5.14957257, 5.03941842, 5.66691414,\n       4.46747441, 4.77662405, 5.19479309, 5.26389472, 4.16459159,\n       4.72064422, 4.89104749, 4.19565104, 5.42531524, 5.77286581,\n       5.57698065, 3.75635796, 4.9653294 , 4.67068397, 5.47473508,\n       5.13124258, 4.46747441, 4.71604813, 5.12835058, 4.43005617,\n       4.92509411, 5.14957257, 5.01699172, 5.19232211, 5.20715854,\n       4.7995592 , 5.46052676, 4.9706651 , 4.22631972, 5.27738926,\n       5.27934704, 5.22112411, 5.38026808, 5.44039199, 5.18863118,\n       4.80981094, 5.5322477 , 5.56435846, 4.7155308 , 5.29414769,\n       5.23121663, 5.36637334, 4.77259926, 4.88170021, 5.02210559,\n       5.38616089, 5.602765  , 5.27598595, 4.87189314, 5.12835058,\n       3.15008854, 5.1446046 , 5.54570701, 5.46794845, 5.83394196,\n       5.49041861, 4.24989733, 4.83899422, 4.9653294 , 4.03679702,\n       4.61831717, 5.20322168, 5.01099148, 5.00094137, 4.5117152 ,\n       4.81272178, 4.46747441, 4.40788172, 4.25208577, 5.01735555,\n       5.23173964, 5.52312722, 5.46017343, 5.40456635, 5.43010662,\n       5.0140304 , 5.33134169, 4.96679904, 4.24989733, 5.32353905,\n       5.75353449, 4.87189314, 4.96789019, 4.0324101 , 4.91506773,\n       4.46747441, 4.51996998, 5.36377266, 5.21643127, 5.12835058,\n       5.52287458, 5.28167797, 4.93655955, 4.78613968, 4.44858441,\n       4.57288424, 4.75367986, 4.24989733, 5.54995382, 5.37599134,\n       5.58773704, 5.76477853, 4.94988697, 4.99988905, 4.30755933,\n       5.55070386, 5.65061192, 5.40506219, 4.3309812 , 5.40720651,\n       5.21858204, 4.81203085, 5.07622054, 4.76252257, 4.43005617,\n       4.91125022, 5.1335166 , 5.54877339, 5.29183686, 5.28399049,\n       5.64990455, 4.81272178, 4.88170021, 4.70479284, 5.48362904,\n       5.3156862 , 4.60058409, 4.79760431, 4.99988905, 4.72177127,\n       4.87189314, 5.62243134, 5.22959849, 4.31808421, 5.46771702,\n       5.09183166, 5.1686346 , 4.84052017, 5.00660363, 4.88542689,\n       5.66691414, 5.18471787, 5.29298942, 5.27738926, 4.99503727,\n       4.78367117, 5.18195778, 5.11332829, 5.32216839, 5.04572299,\n       5.23407443, 4.48526085, 5.33337947, 4.61831717, 5.20579725,\n       5.37987722, 5.03941842, 5.14026031, 5.22406901, 5.19227769,\n       5.20804758, 4.80377161, 5.12435446, 4.83899422, 5.31513057,\n       5.7698082 , 4.84300985, 3.15008854, 4.94469208, 5.20077721,\n       5.26109348, 4.46142768, 5.54777747, 5.63744658, 5.03941842,\n       4.28869678, 5.20804758, 4.97193418, 3.2582978 , 5.12627743,\n       4.93896505, 5.3438994 , 5.03375017, 5.20222362, 5.1842905 ])"
     },
     "execution_count": 10,
     "metadata": {},
     "output_type": "execute_result"
    }
   ],
   "source": [
    "Y_pred"
   ],
   "metadata": {
    "collapsed": false,
    "ExecuteTime": {
     "end_time": "2024-03-08T02:38:18.386922Z",
     "start_time": "2024-03-08T02:38:18.380643Z"
    }
   },
   "id": "5617d31c47d1b5d8"
  },
  {
   "cell_type": "markdown",
   "source": [
    "### Scatter Plot Experimental vs valores pIC50 "
   ],
   "metadata": {
    "collapsed": false
   },
   "id": "f5882bd34c5e28e0"
  },
  {
   "cell_type": "code",
   "execution_count": 11,
   "outputs": [
    {
     "data": {
      "text/plain": "<function matplotlib.pyplot.show(close=None, block=None)>"
     },
     "execution_count": 11,
     "metadata": {},
     "output_type": "execute_result"
    },
    {
     "data": {
      "text/plain": "<Figure size 500x500 with 1 Axes>",
      "image/png": "[encoded data removed]"
     },
     "metadata": {},
     "output_type": "display_data"
    }
   ],
   "source": [
    "import matplotlib.pyplot as plt\n",
    "\n",
    "sns.set(color_codes = True)\n",
    "sns.set_style(\"white\")\n",
    "\n",
    "ax = sns.regplot(x=Y_test, y=Y_pred, scatter_kws={'alpha':0.4})\n",
    "ax.set_xlabel('Experimental pIC50', fontsize='large', fontweight='bold')\n",
    "ax.set_ylabel('Predicted pIC50', fontsize='large', fontweight='bold')\n",
    "ax.set_xlim(1,6)\n",
    "ax.set_ylim(1,6)\n",
    "ax.figure.set_size_inches(5,5)\n",
    "\n",
    "plt.show"
   ],
   "metadata": {
    "collapsed": false,
    "ExecuteTime": {
     "end_time": "2024-03-08T02:38:22.071756Z",
     "start_time": "2024-03-08T02:38:21.803409Z"
    }
   },
   "id": "f29d9e8fbb1bea03"
  },
  {
   "cell_type": "code",
   "execution_count": 125,
   "outputs": [
    {
     "name": "stdout",
     "output_type": "stream",
     "text": [
      "Requirement already satisfied: scikit-learn in /Users/agustincarmusciano/anaconda3/lib/python3.11/site-packages (1.3.2)\r\n",
      "Collecting scikit-learn\r\n",
      "  Obtaining dependency information for scikit-learn from https://files.pythonhosted.org/packages/18/ff/919087b9aa5318c3992def31b74e019eee39c57ff6bf140289041df3db86/scikit_learn-1.4.1.post1-cp311-cp311-macosx_12_0_arm64.whl.metadata\r\n",
      "  Using cached scikit_learn-1.4.1.post1-cp311-cp311-macosx_12_0_arm64.whl.metadata (11 kB)\r\n",
      "Requirement already satisfied: joblib in /Users/agustincarmusciano/anaconda3/lib/python3.11/site-packages (1.3.2)\r\n",
      "Requirement already satisfied: numpy<2.0,>=1.19.5 in /Users/agustincarmusciano/anaconda3/lib/python3.11/site-packages (from scikit-learn) (1.24.3)\r\n",
      "Requirement already satisfied: scipy>=1.6.0 in /Users/agustincarmusciano/anaconda3/lib/python3.11/site-packages (from scikit-learn) (1.11.1)\r\n",
      "Requirement already satisfied: threadpoolctl>=2.0.0 in /Users/agustincarmusciano/anaconda3/lib/python3.11/site-packages (from scikit-learn) (2.2.0)\r\n",
      "Using cached scikit_learn-1.4.1.post1-cp311-cp311-macosx_12_0_arm64.whl (10.4 MB)\r\n",
      "Installing collected packages: scikit-learn\r\n",
      "  Attempting uninstall: scikit-learn\r\n",
      "    Found existing installation: scikit-learn 1.3.2\r\n",
      "    Uninstalling scikit-learn-1.3.2:\r\n",
      "      Successfully uninstalled scikit-learn-1.3.2\r\n",
      "Successfully installed scikit-learn-1.4.1.post1\r\n"
     ]
    }
   ],
   "source": [
    "!pip install -U scikit-learn joblib"
   ],
   "metadata": {
    "collapsed": false,
    "ExecuteTime": {
     "end_time": "2024-03-08T02:15:20.229689Z",
     "start_time": "2024-03-08T02:15:13.958434Z"
    }
   },
   "id": "56f0291a9d3cf513"
  },
  {
   "cell_type": "code",
   "execution_count": 13,
   "outputs": [],
   "source": [
    "import joblib"
   ],
   "metadata": {
    "collapsed": false,
    "ExecuteTime": {
     "end_time": "2024-03-08T02:38:34.470044Z",
     "start_time": "2024-03-08T02:38:34.464120Z"
    }
   },
   "id": "60a7298ddfe9c1e0"
  },
  {
   "cell_type": "code",
   "execution_count": 14,
   "outputs": [
    {
     "data": {
      "text/plain": "['rfm.pkl']"
     },
     "execution_count": 14,
     "metadata": {},
     "output_type": "execute_result"
    }
   ],
   "source": [
    "joblib.dump(model, 'rfm.pkl')"
   ],
   "metadata": {
    "collapsed": false,
    "ExecuteTime": {
     "end_time": "2024-03-08T02:38:35.196503Z",
     "start_time": "2024-03-08T02:38:34.855487Z"
    }
   },
   "id": "453f3e9583f798e0"
  },
  {
   "cell_type": "code",
   "execution_count": 128,
   "outputs": [
    {
     "name": "stdout",
     "output_type": "stream",
     "text": [
      "CDD P1.ipynb\r\n",
      "CDD P2.ipynb\r\n",
      "CDD P3.ipynb\r\n",
      "CDD P4.ipynb\r\n",
      "\u001B[1m\u001B[36mPaDEL-Descriptor\u001B[m\u001B[m\r\n",
      "Readme.md\r\n",
      "\u001B[1m\u001B[36m__MACOSX\u001B[m\u001B[m\r\n",
      "bioactivity_data.csv\r\n",
      "bioactivity_data_pIC50.csv\r\n",
      "bioactivity_data_pIC50_after_PaDEL_descriptors.csv\r\n",
      "bioactivity_preprocessed_data.csv\r\n",
      "descriptors_output.csv\r\n",
      "mannwhitneyu_LogP.csv\r\n",
      "mannwhitneyu_MW.csv\r\n",
      "mannwhitneyu_NumHAcceptors.csv\r\n",
      "mannwhitneyu_NumHDonors.csv\r\n",
      "mannwhitneyu_pIC50.csv\r\n",
      "model.ipynb\r\n",
      "model.py\r\n",
      "molecule.smi\r\n",
      "\u001B[31mpadel.sh\u001B[m\u001B[m\r\n",
      "padel.zip\r\n",
      "plot_LogP.pdf\r\n",
      "plot_MW.pdf\r\n",
      "plot_MW_vs_LogP.pdf\r\n",
      "plot_NumHAcceptors.pdf\r\n",
      "plot_NumHDonors.pdf\r\n",
      "plot_bioactivity_class.pdf\r\n",
      "plot_ic50.pdf\r\n",
      "random_forest_model.pkl\r\n",
      "results.zip\r\n",
      "rfm.pkl\r\n",
      "test.txt\r\n"
     ]
    }
   ],
   "source": [
    "!ls"
   ],
   "metadata": {
    "collapsed": false,
    "ExecuteTime": {
     "end_time": "2024-03-08T02:15:23.983911Z",
     "start_time": "2024-03-08T02:15:23.848906Z"
    }
   },
   "id": "fe19fb2bf88a0a19"
  },
  {
   "cell_type": "code",
   "execution_count": null,
   "outputs": [],
   "source": [],
   "metadata": {
    "collapsed": false
   },
   "id": "f37799256adfe8b0"
  }
 ],
 "metadata": {
  "kernelspec": {
   "display_name": "Python 3",
   "language": "python",
   "name": "python3"
  },
  "language_info": {
   "codemirror_mode": {
    "name": "ipython",
    "version": 2
   },
   "file_extension": ".py",
   "mimetype": "text/x-python",
   "name": "python",
   "nbconvert_exporter": "python",
   "pygments_lexer": "ipython2",
   "version": "2.7.6"
  }
 },
 "nbformat": 4,
 "nbformat_minor": 5
}
