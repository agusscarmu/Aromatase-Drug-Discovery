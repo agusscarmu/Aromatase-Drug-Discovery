{
 "cells": [
  {
   "cell_type": "markdown",
   "source": [
    "# MODEL\n",
    "---"
   ],
   "metadata": {
    "collapsed": false
   },
   "id": "a83edf5726ec9e71"
  },
  {
   "cell_type": "code",
   "execution_count": 10,
   "outputs": [],
   "source": [
    "import pandas as pd\n",
    "import subprocess\n",
    "\n",
    "def readTxt(path):\n",
    "    with open(path, 'r') as f:\n",
    "        data = f.readlines()\n",
    "\n",
    "    # Dividir las columnas por tabulaciones o espacios (ajusta según el delimitador real)\n",
    "    df = pd.DataFrame([line.strip().split('\\t') for line in data], columns=['smile', 'molecule'])\n",
    "    df.to_csv('molecule.smi', sep='\\t', index=False, header=False)\n",
    "\n",
    "# Imprime el DataFrame resultante\n",
    "readTxt('./test.txt')"
   ],
   "metadata": {
    "collapsed": false,
    "ExecuteTime": {
     "end_time": "2024-03-08T02:38:40.948968Z",
     "start_time": "2024-03-08T02:38:40.935719Z"
    }
   },
   "id": "fc5f333b2a5e13f5"
  },
  {
   "cell_type": "code",
   "execution_count": 11,
   "outputs": [
    {
     "name": "stdout",
     "output_type": "stream",
     "text": [
      "Processing CHEMBL353068 in molecule.smi (1/1). \r\n",
      "Descriptor calculation completed in 0.508 secs . Average speed: 0.51 s/mol.\r\n"
     ]
    }
   ],
   "source": [
    "!bash padel.sh"
   ],
   "metadata": {
    "collapsed": false,
    "ExecuteTime": {
     "end_time": "2024-03-08T02:38:43.371705Z",
     "start_time": "2024-03-08T02:38:41.591385Z"
    }
   },
   "id": "adfcf91055460d70"
  },
  {
   "cell_type": "code",
   "execution_count": 12,
   "outputs": [
    {
     "data": {
      "text/plain": "           Name  PubchemFP0  PubchemFP1  PubchemFP2  PubchemFP3  PubchemFP4  \\\n0  CHEMBL353068           1           1           0           0           0   \n\n   PubchemFP5  PubchemFP6  PubchemFP7  PubchemFP8  ...  PubchemFP871  \\\n0           0           0           0           0  ...             0   \n\n   PubchemFP872  PubchemFP873  PubchemFP874  PubchemFP875  PubchemFP876  \\\n0             0             0             0             0             0   \n\n   PubchemFP877  PubchemFP878  PubchemFP879  PubchemFP880  \n0             0             0             0             0  \n\n[1 rows x 882 columns]",
      "text/html": "<div>\n<style scoped>\n    .dataframe tbody tr th:only-of-type {\n        vertical-align: middle;\n    }\n\n    .dataframe tbody tr th {\n        vertical-align: top;\n    }\n\n    .dataframe thead th {\n        text-align: right;\n    }\n</style>\n<table border=\"1\" class=\"dataframe\">\n  <thead>\n    <tr style=\"text-align: right;\">\n      <th></th>\n      <th>Name</th>\n      <th>PubchemFP0</th>\n      <th>PubchemFP1</th>\n      <th>PubchemFP2</th>\n      <th>PubchemFP3</th>\n      <th>PubchemFP4</th>\n      <th>PubchemFP5</th>\n      <th>PubchemFP6</th>\n      <th>PubchemFP7</th>\n      <th>PubchemFP8</th>\n      <th>...</th>\n      <th>PubchemFP871</th>\n      <th>PubchemFP872</th>\n      <th>PubchemFP873</th>\n      <th>PubchemFP874</th>\n      <th>PubchemFP875</th>\n      <th>PubchemFP876</th>\n      <th>PubchemFP877</th>\n      <th>PubchemFP878</th>\n      <th>PubchemFP879</th>\n      <th>PubchemFP880</th>\n    </tr>\n  </thead>\n  <tbody>\n    <tr>\n      <th>0</th>\n      <td>CHEMBL353068</td>\n      <td>1</td>\n      <td>1</td>\n      <td>0</td>\n      <td>0</td>\n      <td>0</td>\n      <td>0</td>\n      <td>0</td>\n      <td>0</td>\n      <td>0</td>\n      <td>...</td>\n      <td>0</td>\n      <td>0</td>\n      <td>0</td>\n      <td>0</td>\n      <td>0</td>\n      <td>0</td>\n      <td>0</td>\n      <td>0</td>\n      <td>0</td>\n      <td>0</td>\n    </tr>\n  </tbody>\n</table>\n<p>1 rows × 882 columns</p>\n</div>"
     },
     "execution_count": 12,
     "metadata": {},
     "output_type": "execute_result"
    }
   ],
   "source": [
    "df_x = pd.read_csv('descriptors_output.csv')\n",
    "df_x"
   ],
   "metadata": {
    "collapsed": false,
    "ExecuteTime": {
     "end_time": "2024-03-08T02:38:44.609926Z",
     "start_time": "2024-03-08T02:38:44.571531Z"
    }
   },
   "id": "10a6b8dd28639da2"
  },
  {
   "cell_type": "code",
   "execution_count": 13,
   "outputs": [
    {
     "data": {
      "text/plain": "   PubchemFP0  PubchemFP1  PubchemFP2  PubchemFP3  PubchemFP4  PubchemFP5  \\\n0           1           1           0           0           0           0   \n\n   PubchemFP6  PubchemFP7  PubchemFP8  PubchemFP9  ...  PubchemFP871  \\\n0           0           0           0           1  ...             0   \n\n   PubchemFP872  PubchemFP873  PubchemFP874  PubchemFP875  PubchemFP876  \\\n0             0             0             0             0             0   \n\n   PubchemFP877  PubchemFP878  PubchemFP879  PubchemFP880  \n0             0             0             0             0  \n\n[1 rows x 881 columns]",
      "text/html": "<div>\n<style scoped>\n    .dataframe tbody tr th:only-of-type {\n        vertical-align: middle;\n    }\n\n    .dataframe tbody tr th {\n        vertical-align: top;\n    }\n\n    .dataframe thead th {\n        text-align: right;\n    }\n</style>\n<table border=\"1\" class=\"dataframe\">\n  <thead>\n    <tr style=\"text-align: right;\">\n      <th></th>\n      <th>PubchemFP0</th>\n      <th>PubchemFP1</th>\n      <th>PubchemFP2</th>\n      <th>PubchemFP3</th>\n      <th>PubchemFP4</th>\n      <th>PubchemFP5</th>\n      <th>PubchemFP6</th>\n      <th>PubchemFP7</th>\n      <th>PubchemFP8</th>\n      <th>PubchemFP9</th>\n      <th>...</th>\n      <th>PubchemFP871</th>\n      <th>PubchemFP872</th>\n      <th>PubchemFP873</th>\n      <th>PubchemFP874</th>\n      <th>PubchemFP875</th>\n      <th>PubchemFP876</th>\n      <th>PubchemFP877</th>\n      <th>PubchemFP878</th>\n      <th>PubchemFP879</th>\n      <th>PubchemFP880</th>\n    </tr>\n  </thead>\n  <tbody>\n    <tr>\n      <th>0</th>\n      <td>1</td>\n      <td>1</td>\n      <td>0</td>\n      <td>0</td>\n      <td>0</td>\n      <td>0</td>\n      <td>0</td>\n      <td>0</td>\n      <td>0</td>\n      <td>1</td>\n      <td>...</td>\n      <td>0</td>\n      <td>0</td>\n      <td>0</td>\n      <td>0</td>\n      <td>0</td>\n      <td>0</td>\n      <td>0</td>\n      <td>0</td>\n      <td>0</td>\n      <td>0</td>\n    </tr>\n  </tbody>\n</table>\n<p>1 rows × 881 columns</p>\n</div>"
     },
     "execution_count": 13,
     "metadata": {},
     "output_type": "execute_result"
    }
   ],
   "source": [
    "df_X = df_x.drop(columns='Name')\n",
    "df_X"
   ],
   "metadata": {
    "collapsed": false,
    "ExecuteTime": {
     "end_time": "2024-03-08T02:38:45.775868Z",
     "start_time": "2024-03-08T02:38:45.737734Z"
    }
   },
   "id": "d27068289f20a3ad"
  },
  {
   "cell_type": "code",
   "execution_count": 40,
   "outputs": [
    {
     "name": "stdout",
     "output_type": "stream",
     "text": [
      "Requirement already satisfied: scikit-learn==1.3.0 in /Users/agustincarmusciano/anaconda3/lib/python3.11/site-packages (1.3.0)\r\n",
      "Requirement already satisfied: numpy>=1.17.3 in /Users/agustincarmusciano/anaconda3/lib/python3.11/site-packages (from scikit-learn==1.3.0) (1.24.3)\r\n",
      "Requirement already satisfied: scipy>=1.5.0 in /Users/agustincarmusciano/anaconda3/lib/python3.11/site-packages (from scikit-learn==1.3.0) (1.11.1)\r\n",
      "Requirement already satisfied: joblib>=1.1.1 in /Users/agustincarmusciano/anaconda3/lib/python3.11/site-packages (from scikit-learn==1.3.0) (1.3.2)\r\n",
      "Requirement already satisfied: threadpoolctl>=2.0.0 in /Users/agustincarmusciano/anaconda3/lib/python3.11/site-packages (from scikit-learn==1.3.0) (2.2.0)\r\n"
     ]
    }
   ],
   "source": [
    "!pip install -U scikit-learn==1.3.0"
   ],
   "metadata": {
    "collapsed": false,
    "ExecuteTime": {
     "end_time": "2024-03-08T02:32:52.876500Z",
     "start_time": "2024-03-08T02:32:48.877095Z"
    }
   },
   "id": "64478e1d57670f76"
  },
  {
   "cell_type": "code",
   "execution_count": 42,
   "outputs": [
    {
     "name": "stdout",
     "output_type": "stream",
     "text": [
      "Name: scikit-learn\r\n",
      "Version: 1.3.0\r\n",
      "Summary: A set of python modules for machine learning and data mining\r\n",
      "Home-page: http://scikit-learn.org\r\n",
      "Author: \r\n",
      "Author-email: \r\n",
      "License: new BSD\r\n",
      "Location: /Users/agustincarmusciano/anaconda3/lib/python3.11/site-packages\r\n",
      "Requires: joblib, numpy, scipy, threadpoolctl\r\n",
      "Required-by: imbalanced-learn, lazypredict\r\n"
     ]
    }
   ],
   "source": [
    "!pip show scikit-learn"
   ],
   "metadata": {
    "collapsed": false,
    "ExecuteTime": {
     "end_time": "2024-03-08T02:33:16.476679Z",
     "start_time": "2024-03-08T02:33:13.235430Z"
    }
   },
   "id": "d733f6f31ec491a2"
  },
  {
   "cell_type": "code",
   "execution_count": 14,
   "outputs": [
    {
     "name": "stdout",
     "output_type": "stream",
     "text": [
      "1.3.0\n"
     ]
    }
   ],
   "source": [
    "import joblib\n",
    "import sklearn\n",
    "import warnings\n",
    "\n",
    "from sklearn.exceptions import InconsistentVersionWarning\n",
    "warnings.simplefilter(\"error\", InconsistentVersionWarning)\n",
    "\n",
    "try:\n",
    "    model = joblib.load(\"rfm.pkl\")\n",
    "except InconsistentVersionWarning as w:\n",
    "    print(w.original_sklearn_version)\n",
    "    \n",
    "print(sklearn.__version__)"
   ],
   "metadata": {
    "collapsed": false,
    "ExecuteTime": {
     "end_time": "2024-03-08T02:38:51.573505Z",
     "start_time": "2024-03-08T02:38:51.338819Z"
    }
   },
   "id": "dd5449dc284b0e8"
  },
  {
   "cell_type": "code",
   "execution_count": 15,
   "outputs": [
    {
     "data": {
      "text/plain": "array([4.42264633])"
     },
     "execution_count": 15,
     "metadata": {},
     "output_type": "execute_result"
    }
   ],
   "source": [
    "model.predict(df_X)"
   ],
   "metadata": {
    "collapsed": false,
    "ExecuteTime": {
     "end_time": "2024-03-08T02:38:52.689187Z",
     "start_time": "2024-03-08T02:38:52.645874Z"
    }
   },
   "id": "19c2a3b6ccd64dd6"
  },
  {
   "cell_type": "code",
   "execution_count": null,
   "outputs": [],
   "source": [],
   "metadata": {
    "collapsed": false
   },
   "id": "ed00ac7485dde4bf"
  }
 ],
 "metadata": {
  "kernelspec": {
   "display_name": "Python 3",
   "language": "python",
   "name": "python3"
  },
  "language_info": {
   "codemirror_mode": {
    "name": "ipython",
    "version": 2
   },
   "file_extension": ".py",
   "mimetype": "text/x-python",
   "name": "python",
   "nbconvert_exporter": "python",
   "pygments_lexer": "ipython2",
   "version": "2.7.6"
  }
 },
 "nbformat": 4,
 "nbformat_minor": 5
}
